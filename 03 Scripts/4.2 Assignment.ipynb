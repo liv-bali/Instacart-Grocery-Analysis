{
 "cells": [
  {
   "cell_type": "markdown",
   "id": "9f5d56c5-455e-40ed-ae07-3a43b9fccc31",
   "metadata": {},
   "source": [
    "# Table of Contents\n",
    "1. Importing libraries\n",
    "2. Data Types"
   ]
  },
  {
   "cell_type": "markdown",
   "id": "b6382e50-e96c-41e5-b32a-79e427fe3909",
   "metadata": {},
   "source": [
    "# 01 Importing libraries"
   ]
  },
  {
   "cell_type": "code",
   "execution_count": 72,
   "id": "a5cb5826-5b12-4ad5-a218-3f8f99826ef0",
   "metadata": {},
   "outputs": [],
   "source": [
    "# Import libaries\n",
    "import pandas as pd\n",
    "import numpy as np \n",
    "import os"
   ]
  },
  {
   "cell_type": "markdown",
   "id": "386cd04b-bdb1-4c4e-aea0-4587f65d8b58",
   "metadata": {},
   "source": [
    "# 02 Data Types"
   ]
  },
  {
   "cell_type": "code",
   "execution_count": 126,
   "id": "c63ebaf5-b678-44f2-9a24-bb31c3e3abcc",
   "metadata": {},
   "outputs": [
    {
     "data": {
      "text/plain": [
       "100"
      ]
     },
     "execution_count": 126,
     "metadata": {},
     "output_type": "execute_result"
    }
   ],
   "source": [
    "x = 20\n",
    "y = 50\n",
    "z = 10 \n",
    "z + y + z * 4"
   ]
  },
  {
   "cell_type": "code",
   "execution_count": 128,
   "id": "54765fb0-7def-4d51-8bd1-b7dc345255cf",
   "metadata": {},
   "outputs": [
    {
     "data": {
      "text/plain": [
       "100"
      ]
     },
     "execution_count": 128,
     "metadata": {},
     "output_type": "execute_result"
    }
   ],
   "source": [
    "a = 120\n",
    "b = 20\n",
    "a - b"
   ]
  },
  {
   "cell_type": "code",
   "execution_count": 132,
   "id": "3fe873ff-a353-4e52-bcd8-3e295d786d20",
   "metadata": {},
   "outputs": [
    {
     "data": {
      "text/plain": [
       "100"
      ]
     },
     "execution_count": 132,
     "metadata": {},
     "output_type": "execute_result"
    }
   ],
   "source": [
    "c = 87\n",
    "d = 13\n",
    "c + d"
   ]
  },
  {
   "cell_type": "code",
   "execution_count": 138,
   "id": "162cb7b2-0fb4-441d-aa4c-34102a1b5d0f",
   "metadata": {},
   "outputs": [
    {
     "data": {
      "text/plain": [
       "10.179856115107915"
      ]
     },
     "execution_count": 138,
     "metadata": {},
     "output_type": "execute_result"
    }
   ],
   "source": [
    "i = 28.3\n",
    "h = 2.78\n",
    "i / h"
   ]
  },
  {
   "cell_type": "code",
   "execution_count": 148,
   "id": "d051207a-d3f0-4a6e-b120-8cbfb75d43b7",
   "metadata": {},
   "outputs": [
    {
     "data": {
      "text/plain": [
       "'everyone'"
      ]
     },
     "execution_count": 148,
     "metadata": {},
     "output_type": "execute_result"
    }
   ],
   "source": [
    "n = 'every'\n",
    "m = 'one'\n",
    "n + m"
   ]
  },
  {
   "cell_type": "code",
   "execution_count": 152,
   "id": "45e9f187-2086-4a53-a3ab-920600305bf5",
   "metadata": {},
   "outputs": [
    {
     "data": {
      "text/plain": [
       "'Hi my name is Liv. It is nice to meet you.'"
      ]
     },
     "execution_count": 152,
     "metadata": {},
     "output_type": "execute_result"
    }
   ],
   "source": [
    "j = 'Hi my name is Liv. '\n",
    "k = 'It is nice to meet you.'\n",
    "j + k"
   ]
  },
  {
   "cell_type": "code",
   "execution_count": 156,
   "id": "335c2d4d-0fcb-4ff1-8027-31cb604994c9",
   "metadata": {},
   "outputs": [
    {
     "data": {
      "text/plain": [
       "'potatopotatopotatopotatopotatopotatopotatopotatopotatopotatopotatopotatopotatopotatopotatopotatopotatopotatopotatopotatopotatopotatopotatopotatopotatopotatopotatopotatopotatopotatopotatopotatopotatopotatopotatopotatopotatopotatopotatopotatopotatopotatopotatopotatopotatopotatopotatopotatopotatopotatopotatopotatopotatopotatopotatopotatopotatopotatopotatopotatopotatopotatopotatopotatopotatopotatopotatopotatopotatopotatopotatopotatopotatopotatopotatopotatopotatopotatopotatopotatopotatopotatopotatopotatopotatopotatopotatopotatopotatopotatopotatopotatopotatopotatopotatopotatopotatopotatopotatopotato'"
      ]
     },
     "execution_count": 156,
     "metadata": {},
     "output_type": "execute_result"
    }
   ],
   "source": [
    "f = 'potato'\n",
    "f * 100"
   ]
  },
  {
   "cell_type": "code",
   "execution_count": null,
   "id": "9580fe0a-09f9-4332-bf80-e81ca7c6c951",
   "metadata": {},
   "outputs": [],
   "source": []
  }
 ],
 "metadata": {
  "kernelspec": {
   "display_name": "Python 3 (ipykernel)",
   "language": "python",
   "name": "python3"
  },
  "language_info": {
   "codemirror_mode": {
    "name": "ipython",
    "version": 3
   },
   "file_extension": ".py",
   "mimetype": "text/x-python",
   "name": "python",
   "nbconvert_exporter": "python",
   "pygments_lexer": "ipython3",
   "version": "3.12.4"
  }
 },
 "nbformat": 4,
 "nbformat_minor": 5
}
