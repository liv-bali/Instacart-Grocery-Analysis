{
 "cells": [
  {
   "cell_type": "markdown",
   "id": "d7d40839-feaa-47eb-9766-9933e2389ae0",
   "metadata": {},
   "source": [
    "# Table of contents\n",
    "1. Orders Data Insert\n",
    "2. Product Data Insert\n",
    "3. Consistency Checks\n",
    "4. Addressing missing values\n",
    "5. Duplicates\n",
    "6. Exporting Ords"
   ]
  },
  {
   "cell_type": "code",
   "execution_count": 18,
   "id": "0db51179-b676-4ac8-85ab-cdaf60238c93",
   "metadata": {},
   "outputs": [],
   "source": [
    "# Importing libraries\n",
    "import pandas as pd\n",
    "import numpy as np\n",
    "import os"
   ]
  },
  {
   "cell_type": "markdown",
   "id": "fd7ddfbe-1c0d-4c19-b88d-0b18d7f63d51",
   "metadata": {},
   "source": [
    "# Orders Data Insert"
   ]
  },
  {
   "cell_type": "code",
   "execution_count": 73,
   "id": "95df0fe7-2a33-4efb-803d-5e9d75db536e",
   "metadata": {},
   "outputs": [],
   "source": [
    "df_ords = pd.read_csv(r'C:\\Users\\olivi\\OneDrive\\Documents\\Data Analytics\\Data Analytics Immersion\\Instacart Basket Analysis\\02 Data\\Prepared Data\\orders_wrangled.csv' , index_col = False)"
   ]
  },
  {
   "cell_type": "code",
   "execution_count": 74,
   "id": "5cafa6c6-7096-497a-adb6-ad1167bea6b6",
   "metadata": {},
   "outputs": [],
   "source": [
    "path = r'C:\\Users\\olivi\\OneDrive\\Documents\\Data Analytics\\Data Analytics Immersion\\Instacart Basket Analysis'"
   ]
  },
  {
   "cell_type": "code",
   "execution_count": 75,
   "id": "32100a04-73f3-4183-848c-4bd8bee15587",
   "metadata": {},
   "outputs": [],
   "source": [
    "df_ords = pd.read_csv(os.path.join(path, '02 Data' , 'Prepared Data' , 'orders_wrangled.csv'), index_col = False)"
   ]
  },
  {
   "cell_type": "markdown",
   "id": "5d0bebf4-4337-4379-ab9f-cff74b8530ad",
   "metadata": {},
   "source": [
    "# Product Data Insert"
   ]
  },
  {
   "cell_type": "code",
   "execution_count": 80,
   "id": "951a3dbc-c6bf-4a08-9123-43dff92bf940",
   "metadata": {},
   "outputs": [],
   "source": [
    "df_prods = pd.read_csv(r'C:\\Users\\olivi\\OneDrive\\Documents\\Data Analytics\\Data Analytics Immersion\\Instacart Basket Analysis\\02 Data\\Prepared Data\\products_wrangled.csv' , index_col = False)"
   ]
  },
  {
   "cell_type": "code",
   "execution_count": 82,
   "id": "4b3365b9-5b0c-444a-b91b-66b4a5c6eda6",
   "metadata": {},
   "outputs": [],
   "source": [
    "path = r'C:\\Users\\olivi\\OneDrive\\Documents\\Data Analytics\\Data Analytics Immersion\\Instacart Basket Analysis'"
   ]
  },
  {
   "cell_type": "code",
   "execution_count": 84,
   "id": "e522955e-58d3-4ee4-b2f9-62675888181d",
   "metadata": {},
   "outputs": [],
   "source": [
    "df_prods = pd.read_csv(os.path.join(path, '02 Data' , 'Prepared Data' , 'products_wrangled.csv'), index_col = False)"
   ]
  },
  {
   "cell_type": "markdown",
   "id": "1fa3dd7e-8af8-4ee1-8de4-118261fdaaaf",
   "metadata": {},
   "source": [
    "# Consistency Checks"
   ]
  },
  {
   "cell_type": "code",
   "execution_count": 86,
   "id": "a9c91138-eb79-497a-9713-66e140a15b4e",
   "metadata": {},
   "outputs": [
    {
     "data": {
      "text/html": [
       "<div>\n",
       "<style scoped>\n",
       "    .dataframe tbody tr th:only-of-type {\n",
       "        vertical-align: middle;\n",
       "    }\n",
       "\n",
       "    .dataframe tbody tr th {\n",
       "        vertical-align: top;\n",
       "    }\n",
       "\n",
       "    .dataframe thead th {\n",
       "        text-align: right;\n",
       "    }\n",
       "</style>\n",
       "<table border=\"1\" class=\"dataframe\">\n",
       "  <thead>\n",
       "    <tr style=\"text-align: right;\">\n",
       "      <th></th>\n",
       "      <th>Unnamed: 0</th>\n",
       "      <th>order_id</th>\n",
       "      <th>user_id</th>\n",
       "      <th>order_number</th>\n",
       "      <th>orders_day_of_week</th>\n",
       "      <th>order_hour_of_day</th>\n",
       "      <th>days_since_order</th>\n",
       "    </tr>\n",
       "  </thead>\n",
       "  <tbody>\n",
       "    <tr>\n",
       "      <th>count</th>\n",
       "      <td>3.421083e+06</td>\n",
       "      <td>3.421083e+06</td>\n",
       "      <td>3.421083e+06</td>\n",
       "      <td>3.421083e+06</td>\n",
       "      <td>3.421083e+06</td>\n",
       "      <td>3.421083e+06</td>\n",
       "      <td>3.214874e+06</td>\n",
       "    </tr>\n",
       "    <tr>\n",
       "      <th>mean</th>\n",
       "      <td>1.710541e+06</td>\n",
       "      <td>1.710542e+06</td>\n",
       "      <td>1.029782e+05</td>\n",
       "      <td>1.715486e+01</td>\n",
       "      <td>2.776219e+00</td>\n",
       "      <td>1.345202e+01</td>\n",
       "      <td>1.111484e+01</td>\n",
       "    </tr>\n",
       "    <tr>\n",
       "      <th>std</th>\n",
       "      <td>9.875817e+05</td>\n",
       "      <td>9.875817e+05</td>\n",
       "      <td>5.953372e+04</td>\n",
       "      <td>1.773316e+01</td>\n",
       "      <td>2.046829e+00</td>\n",
       "      <td>4.226088e+00</td>\n",
       "      <td>9.206737e+00</td>\n",
       "    </tr>\n",
       "    <tr>\n",
       "      <th>min</th>\n",
       "      <td>0.000000e+00</td>\n",
       "      <td>1.000000e+00</td>\n",
       "      <td>1.000000e+00</td>\n",
       "      <td>1.000000e+00</td>\n",
       "      <td>0.000000e+00</td>\n",
       "      <td>0.000000e+00</td>\n",
       "      <td>0.000000e+00</td>\n",
       "    </tr>\n",
       "    <tr>\n",
       "      <th>25%</th>\n",
       "      <td>8.552705e+05</td>\n",
       "      <td>8.552715e+05</td>\n",
       "      <td>5.139400e+04</td>\n",
       "      <td>5.000000e+00</td>\n",
       "      <td>1.000000e+00</td>\n",
       "      <td>1.000000e+01</td>\n",
       "      <td>4.000000e+00</td>\n",
       "    </tr>\n",
       "    <tr>\n",
       "      <th>50%</th>\n",
       "      <td>1.710541e+06</td>\n",
       "      <td>1.710542e+06</td>\n",
       "      <td>1.026890e+05</td>\n",
       "      <td>1.100000e+01</td>\n",
       "      <td>3.000000e+00</td>\n",
       "      <td>1.300000e+01</td>\n",
       "      <td>7.000000e+00</td>\n",
       "    </tr>\n",
       "    <tr>\n",
       "      <th>75%</th>\n",
       "      <td>2.565812e+06</td>\n",
       "      <td>2.565812e+06</td>\n",
       "      <td>1.543850e+05</td>\n",
       "      <td>2.300000e+01</td>\n",
       "      <td>5.000000e+00</td>\n",
       "      <td>1.600000e+01</td>\n",
       "      <td>1.500000e+01</td>\n",
       "    </tr>\n",
       "    <tr>\n",
       "      <th>max</th>\n",
       "      <td>3.421082e+06</td>\n",
       "      <td>3.421083e+06</td>\n",
       "      <td>2.062090e+05</td>\n",
       "      <td>1.000000e+02</td>\n",
       "      <td>6.000000e+00</td>\n",
       "      <td>2.300000e+01</td>\n",
       "      <td>3.000000e+01</td>\n",
       "    </tr>\n",
       "  </tbody>\n",
       "</table>\n",
       "</div>"
      ],
      "text/plain": [
       "         Unnamed: 0      order_id       user_id  order_number  \\\n",
       "count  3.421083e+06  3.421083e+06  3.421083e+06  3.421083e+06   \n",
       "mean   1.710541e+06  1.710542e+06  1.029782e+05  1.715486e+01   \n",
       "std    9.875817e+05  9.875817e+05  5.953372e+04  1.773316e+01   \n",
       "min    0.000000e+00  1.000000e+00  1.000000e+00  1.000000e+00   \n",
       "25%    8.552705e+05  8.552715e+05  5.139400e+04  5.000000e+00   \n",
       "50%    1.710541e+06  1.710542e+06  1.026890e+05  1.100000e+01   \n",
       "75%    2.565812e+06  2.565812e+06  1.543850e+05  2.300000e+01   \n",
       "max    3.421082e+06  3.421083e+06  2.062090e+05  1.000000e+02   \n",
       "\n",
       "       orders_day_of_week  order_hour_of_day  days_since_order  \n",
       "count        3.421083e+06       3.421083e+06      3.214874e+06  \n",
       "mean         2.776219e+00       1.345202e+01      1.111484e+01  \n",
       "std          2.046829e+00       4.226088e+00      9.206737e+00  \n",
       "min          0.000000e+00       0.000000e+00      0.000000e+00  \n",
       "25%          1.000000e+00       1.000000e+01      4.000000e+00  \n",
       "50%          3.000000e+00       1.300000e+01      7.000000e+00  \n",
       "75%          5.000000e+00       1.600000e+01      1.500000e+01  \n",
       "max          6.000000e+00       2.300000e+01      3.000000e+01  "
      ]
     },
     "execution_count": 86,
     "metadata": {},
     "output_type": "execute_result"
    }
   ],
   "source": [
    "df_ords.describe()"
   ]
  },
  {
   "cell_type": "code",
   "execution_count": 88,
   "id": "d8ab388f-4148-42d7-ac74-b0704a38d799",
   "metadata": {},
   "outputs": [
    {
     "name": "stdout",
     "output_type": "stream",
     "text": [
      "Unnamed: 0\n",
      "order_id\n",
      "user_id\n",
      "order_number\n",
      "orders_day_of_week\n",
      "order_hour_of_day\n",
      "days_since_order\n"
     ]
    }
   ],
   "source": [
    "for col in df_ords.columns:\n",
    "    weird = df_ords[col].map(type) != type(df_ords[col].iloc[0])\n",
    "    if weird.any():\n",
    "        print(col)\n"
   ]
  },
  {
   "cell_type": "code",
   "execution_count": 90,
   "id": "4ec9c288-f753-4a7e-89d0-f5232d6c8045",
   "metadata": {},
   "outputs": [],
   "source": [
    "df_ords['order_id'] = df_ords['order_id'].astype('str')"
   ]
  },
  {
   "cell_type": "code",
   "execution_count": 92,
   "id": "45542eb7-e710-4df2-921d-b42c94cbebc0",
   "metadata": {},
   "outputs": [],
   "source": [
    "df_ords['user_id'] = df_ords['user_id'].astype('str')"
   ]
  },
  {
   "cell_type": "code",
   "execution_count": 93,
   "id": "7f933fa6-c3a7-4ce2-8302-b555a92d4340",
   "metadata": {},
   "outputs": [],
   "source": [
    "df_ords['order_number'] = df_ords['order_number'].astype('str')"
   ]
  },
  {
   "cell_type": "code",
   "execution_count": 96,
   "id": "7aa2b5ef-90af-4eb6-8453-e5392fe397ec",
   "metadata": {},
   "outputs": [],
   "source": [
    "df_ords['orders_day_of_week'] = df_ords['orders_day_of_week'].astype('str')"
   ]
  },
  {
   "cell_type": "code",
   "execution_count": 98,
   "id": "41d8f309-222b-40fa-ae92-f436e03b548d",
   "metadata": {},
   "outputs": [],
   "source": [
    "df_ords['order_hour_of_day'] = df_ords['order_hour_of_day'].astype('int64')"
   ]
  },
  {
   "cell_type": "code",
   "execution_count": 100,
   "id": "8e65b55a-1027-4935-9471-c81cd69441bc",
   "metadata": {},
   "outputs": [],
   "source": [
    "df_ords['days_since_order'] = df_ords['days_since_order'].astype('float')"
   ]
  },
  {
   "cell_type": "code",
   "execution_count": 102,
   "id": "57dceb4c-269d-41bf-9539-7942c80f14e4",
   "metadata": {},
   "outputs": [
    {
     "data": {
      "text/plain": [
       "Unnamed: 0                 0\n",
       "order_id                   0\n",
       "user_id                    0\n",
       "order_number               0\n",
       "orders_day_of_week         0\n",
       "order_hour_of_day          0\n",
       "days_since_order      206209\n",
       "dtype: int64"
      ]
     },
     "execution_count": 102,
     "metadata": {},
     "output_type": "execute_result"
    }
   ],
   "source": [
    "# Here we can see there are 20k plus rows of missing data for the days_since_order column\n",
    "# It is likely that the data was not entered here.\n",
    "df_ords.isnull().sum()"
   ]
  },
  {
   "cell_type": "code",
   "execution_count": 104,
   "id": "e5d0fc5d-4b39-46b6-add9-47601446f33e",
   "metadata": {},
   "outputs": [],
   "source": [
    "df_nan =df_ords[df_ords['days_since_order'].isnull() == True]"
   ]
  },
  {
   "cell_type": "code",
   "execution_count": 106,
   "id": "34707923-0fd9-4a28-b75b-8a1653a5c0a6",
   "metadata": {},
   "outputs": [
    {
     "data": {
      "text/html": [
       "<div>\n",
       "<style scoped>\n",
       "    .dataframe tbody tr th:only-of-type {\n",
       "        vertical-align: middle;\n",
       "    }\n",
       "\n",
       "    .dataframe tbody tr th {\n",
       "        vertical-align: top;\n",
       "    }\n",
       "\n",
       "    .dataframe thead th {\n",
       "        text-align: right;\n",
       "    }\n",
       "</style>\n",
       "<table border=\"1\" class=\"dataframe\">\n",
       "  <thead>\n",
       "    <tr style=\"text-align: right;\">\n",
       "      <th></th>\n",
       "      <th>Unnamed: 0</th>\n",
       "      <th>order_id</th>\n",
       "      <th>user_id</th>\n",
       "      <th>order_number</th>\n",
       "      <th>orders_day_of_week</th>\n",
       "      <th>order_hour_of_day</th>\n",
       "      <th>days_since_order</th>\n",
       "    </tr>\n",
       "  </thead>\n",
       "  <tbody>\n",
       "    <tr>\n",
       "      <th>0</th>\n",
       "      <td>0</td>\n",
       "      <td>2539329</td>\n",
       "      <td>1</td>\n",
       "      <td>1</td>\n",
       "      <td>2</td>\n",
       "      <td>8</td>\n",
       "      <td>NaN</td>\n",
       "    </tr>\n",
       "    <tr>\n",
       "      <th>11</th>\n",
       "      <td>11</td>\n",
       "      <td>2168274</td>\n",
       "      <td>2</td>\n",
       "      <td>1</td>\n",
       "      <td>2</td>\n",
       "      <td>11</td>\n",
       "      <td>NaN</td>\n",
       "    </tr>\n",
       "    <tr>\n",
       "      <th>26</th>\n",
       "      <td>26</td>\n",
       "      <td>1374495</td>\n",
       "      <td>3</td>\n",
       "      <td>1</td>\n",
       "      <td>1</td>\n",
       "      <td>14</td>\n",
       "      <td>NaN</td>\n",
       "    </tr>\n",
       "    <tr>\n",
       "      <th>39</th>\n",
       "      <td>39</td>\n",
       "      <td>3343014</td>\n",
       "      <td>4</td>\n",
       "      <td>1</td>\n",
       "      <td>6</td>\n",
       "      <td>11</td>\n",
       "      <td>NaN</td>\n",
       "    </tr>\n",
       "    <tr>\n",
       "      <th>45</th>\n",
       "      <td>45</td>\n",
       "      <td>2717275</td>\n",
       "      <td>5</td>\n",
       "      <td>1</td>\n",
       "      <td>3</td>\n",
       "      <td>12</td>\n",
       "      <td>NaN</td>\n",
       "    </tr>\n",
       "    <tr>\n",
       "      <th>...</th>\n",
       "      <td>...</td>\n",
       "      <td>...</td>\n",
       "      <td>...</td>\n",
       "      <td>...</td>\n",
       "      <td>...</td>\n",
       "      <td>...</td>\n",
       "      <td>...</td>\n",
       "    </tr>\n",
       "    <tr>\n",
       "      <th>3420930</th>\n",
       "      <td>3420930</td>\n",
       "      <td>969311</td>\n",
       "      <td>206205</td>\n",
       "      <td>1</td>\n",
       "      <td>4</td>\n",
       "      <td>12</td>\n",
       "      <td>NaN</td>\n",
       "    </tr>\n",
       "    <tr>\n",
       "      <th>3420934</th>\n",
       "      <td>3420934</td>\n",
       "      <td>3189322</td>\n",
       "      <td>206206</td>\n",
       "      <td>1</td>\n",
       "      <td>3</td>\n",
       "      <td>18</td>\n",
       "      <td>NaN</td>\n",
       "    </tr>\n",
       "    <tr>\n",
       "      <th>3421002</th>\n",
       "      <td>3421002</td>\n",
       "      <td>2166133</td>\n",
       "      <td>206207</td>\n",
       "      <td>1</td>\n",
       "      <td>6</td>\n",
       "      <td>19</td>\n",
       "      <td>NaN</td>\n",
       "    </tr>\n",
       "    <tr>\n",
       "      <th>3421019</th>\n",
       "      <td>3421019</td>\n",
       "      <td>2227043</td>\n",
       "      <td>206208</td>\n",
       "      <td>1</td>\n",
       "      <td>1</td>\n",
       "      <td>15</td>\n",
       "      <td>NaN</td>\n",
       "    </tr>\n",
       "    <tr>\n",
       "      <th>3421069</th>\n",
       "      <td>3421069</td>\n",
       "      <td>3154581</td>\n",
       "      <td>206209</td>\n",
       "      <td>1</td>\n",
       "      <td>3</td>\n",
       "      <td>11</td>\n",
       "      <td>NaN</td>\n",
       "    </tr>\n",
       "  </tbody>\n",
       "</table>\n",
       "<p>206209 rows × 7 columns</p>\n",
       "</div>"
      ],
      "text/plain": [
       "         Unnamed: 0 order_id user_id order_number orders_day_of_week  \\\n",
       "0                 0  2539329       1            1                  2   \n",
       "11               11  2168274       2            1                  2   \n",
       "26               26  1374495       3            1                  1   \n",
       "39               39  3343014       4            1                  6   \n",
       "45               45  2717275       5            1                  3   \n",
       "...             ...      ...     ...          ...                ...   \n",
       "3420930     3420930   969311  206205            1                  4   \n",
       "3420934     3420934  3189322  206206            1                  3   \n",
       "3421002     3421002  2166133  206207            1                  6   \n",
       "3421019     3421019  2227043  206208            1                  1   \n",
       "3421069     3421069  3154581  206209            1                  3   \n",
       "\n",
       "         order_hour_of_day  days_since_order  \n",
       "0                        8               NaN  \n",
       "11                      11               NaN  \n",
       "26                      14               NaN  \n",
       "39                      11               NaN  \n",
       "45                      12               NaN  \n",
       "...                    ...               ...  \n",
       "3420930                 12               NaN  \n",
       "3420934                 18               NaN  \n",
       "3421002                 19               NaN  \n",
       "3421019                 15               NaN  \n",
       "3421069                 11               NaN  \n",
       "\n",
       "[206209 rows x 7 columns]"
      ]
     },
     "execution_count": 106,
     "metadata": {},
     "output_type": "execute_result"
    }
   ],
   "source": [
    "df_nan"
   ]
  },
  {
   "cell_type": "markdown",
   "id": "0a584d3f-fa05-4f0c-b92b-f7445794385f",
   "metadata": {},
   "source": [
    "# Addressing Missing Values"
   ]
  },
  {
   "cell_type": "code",
   "execution_count": 109,
   "id": "28d05311-d350-4ae7-bbc7-e99fb4d47613",
   "metadata": {},
   "outputs": [
    {
     "data": {
      "text/plain": [
       "(3421083, 7)"
      ]
     },
     "execution_count": 109,
     "metadata": {},
     "output_type": "execute_result"
    }
   ],
   "source": [
    "df_ords.shape"
   ]
  },
  {
   "cell_type": "code",
   "execution_count": 111,
   "id": "dbf7c47f-2dc8-48e1-aec6-773fc56a6286",
   "metadata": {},
   "outputs": [],
   "source": [
    "#I replaced the missing values with the mean to ensure that the days_since_order column \n",
    "# reflects the central tendency of the data without introducing significant bias. \n",
    "# Using the mean helps maintain the overall distribution and integrity of the dataset, \n",
    "# allowing for more accurate analysis.\n",
    "\n",
    "df_ords_clean = df_ords.copy()\n",
    "df_ords_clean['days_since_order'] = df_ords_clean['days_since_order'].fillna(1.111484e+01)"
   ]
  },
  {
   "cell_type": "code",
   "execution_count": 113,
   "id": "c1b8d71c-e845-410f-84b4-6390e00db46d",
   "metadata": {},
   "outputs": [
    {
     "data": {
      "text/plain": [
       "(3421083, 7)"
      ]
     },
     "execution_count": 113,
     "metadata": {},
     "output_type": "execute_result"
    }
   ],
   "source": [
    "df_ords_clean.shape"
   ]
  },
  {
   "cell_type": "markdown",
   "id": "5302547e-76e1-4143-b7da-02cf923be42b",
   "metadata": {},
   "source": [
    "# Duplicates"
   ]
  },
  {
   "cell_type": "code",
   "execution_count": 116,
   "id": "7bddd3ca-f7b9-4dd3-983d-31ca6cf7e7e1",
   "metadata": {},
   "outputs": [],
   "source": [
    "# Finding duplicates I did not find any so I didn't need to delete any data\n",
    "\n",
    "df_dups = df_ords_clean[df_ords_clean.duplicated()]"
   ]
  },
  {
   "cell_type": "code",
   "execution_count": 117,
   "id": "f62e796a-7f50-4d4c-a306-c0fee16b8d74",
   "metadata": {},
   "outputs": [
    {
     "data": {
      "text/html": [
       "<div>\n",
       "<style scoped>\n",
       "    .dataframe tbody tr th:only-of-type {\n",
       "        vertical-align: middle;\n",
       "    }\n",
       "\n",
       "    .dataframe tbody tr th {\n",
       "        vertical-align: top;\n",
       "    }\n",
       "\n",
       "    .dataframe thead th {\n",
       "        text-align: right;\n",
       "    }\n",
       "</style>\n",
       "<table border=\"1\" class=\"dataframe\">\n",
       "  <thead>\n",
       "    <tr style=\"text-align: right;\">\n",
       "      <th></th>\n",
       "      <th>Unnamed: 0</th>\n",
       "      <th>order_id</th>\n",
       "      <th>user_id</th>\n",
       "      <th>order_number</th>\n",
       "      <th>orders_day_of_week</th>\n",
       "      <th>order_hour_of_day</th>\n",
       "      <th>days_since_order</th>\n",
       "    </tr>\n",
       "  </thead>\n",
       "  <tbody>\n",
       "  </tbody>\n",
       "</table>\n",
       "</div>"
      ],
      "text/plain": [
       "Empty DataFrame\n",
       "Columns: [Unnamed: 0, order_id, user_id, order_number, orders_day_of_week, order_hour_of_day, days_since_order]\n",
       "Index: []"
      ]
     },
     "execution_count": 117,
     "metadata": {},
     "output_type": "execute_result"
    }
   ],
   "source": [
    "df_dups"
   ]
  },
  {
   "cell_type": "markdown",
   "id": "5bf57518-7ca0-4405-a5e7-172c6b7fb003",
   "metadata": {},
   "source": [
    "# Exporting Ords"
   ]
  },
  {
   "cell_type": "code",
   "execution_count": 121,
   "id": "be8b1f40-fdb5-4253-814e-f3088c68eb72",
   "metadata": {},
   "outputs": [],
   "source": [
    "df_ords_clean.to_csv(os.path.join(path,'02 Data' , 'Prepared Data' , 'orders_checked.csv'))"
   ]
  },
  {
   "cell_type": "code",
   "execution_count": null,
   "id": "f704c645-1647-4982-bc88-9b6ffbf358d6",
   "metadata": {},
   "outputs": [],
   "source": []
  }
 ],
 "metadata": {
  "kernelspec": {
   "display_name": "Python 3 (ipykernel)",
   "language": "python",
   "name": "python3"
  },
  "language_info": {
   "codemirror_mode": {
    "name": "ipython",
    "version": 3
   },
   "file_extension": ".py",
   "mimetype": "text/x-python",
   "name": "python",
   "nbconvert_exporter": "python",
   "pygments_lexer": "ipython3",
   "version": "3.12.4"
  }
 },
 "nbformat": 4,
 "nbformat_minor": 5
}
