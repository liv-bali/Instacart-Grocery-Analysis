{
 "cells": [
  {
   "cell_type": "markdown",
   "id": "881301a7-9003-4a0e-aa04-1fc601ff57c5",
   "metadata": {},
   "source": [
    "# Table of contents\n",
    "1. Define the regions\n",
    "2. Exclusion flag for customers with less than 5 orders\n",
    "3. Profiling variable based on age, income, certain good in the 'department_id' column and number of dependants\n",
    "   3.1 Age\n",
    "   3.2 Income\n",
    "   3.3 Number of dependants\n",
    "4. Visualizations\n",
    "5. Customer profiles based on region and departments\n",
    "6. Income groups\n",
    "7. Marital Status"
   ]
  },
  {
   "cell_type": "code",
   "execution_count": 3,
   "id": "8699c7fd-bcd9-4364-8cab-48e3e0d4e821",
   "metadata": {},
   "outputs": [],
   "source": [
    "#Import libraries\n",
    "import pandas as pd\n",
    "import numpy as np\n",
    "import os\n",
    "import matplotlib.pyplot as plt\n",
    "from matplotlib.ticker import ScalarFormatter\n",
    "import seaborn as sns\n",
    "import scipy"
   ]
  },
  {
   "cell_type": "code",
   "execution_count": 2,
   "id": "b94b8fe0-11db-4c61-ab72-35f13743b250",
   "metadata": {},
   "outputs": [],
   "source": [
    "path = r'C:\\Users\\olivi\\OneDrive\\Documents\\Data Analytics\\Data Analytics Immersion\\Instacart Basket Analysis'"
   ]
  },
  {
   "cell_type": "code",
   "execution_count": 3,
   "id": "11803939-04a1-476f-8af2-d38d69d70028",
   "metadata": {},
   "outputs": [],
   "source": [
    "df = pd.read_pickle(os.path.join(path, '02 Data' , 'Prepared Data' , 'orders_products_cst_all.pkl'))"
   ]
  },
  {
   "cell_type": "code",
   "execution_count": 4,
   "id": "d5f7644c-4454-4497-b2bd-5eb5121725b0",
   "metadata": {},
   "outputs": [],
   "source": [
    "# PII and the security implications.\n",
    "# It is important to recognize the presence of PII that could post security and privacy riskes if not handled appropriately.\n",
    "# To address the concerns we can consider anonymization such as removing or anonymizing the PII data. \n",
    "# We can evalutate the necessity of each PII column and decide how pertinent the info is to the analysis.\n",
    "# We can also restrict access to the dataset especially the PII columns ensuring that only authorized individuals have access."
   ]
  },
  {
   "cell_type": "code",
   "execution_count": 74,
   "id": "b3aada56-198e-486a-a8b2-5cb0469730bf",
   "metadata": {},
   "outputs": [
    {
     "name": "stdout",
     "output_type": "stream",
     "text": [
      "     state region\n",
      "0  Alabama  South\n",
      "1  Alabama  South\n",
      "2  Alabama  South\n",
      "3  Alabama  South\n",
      "4  Alabama  South\n"
     ]
    }
   ],
   "source": [
    "# 1. Define the regions\n",
    "state_to_region = {\n",
    "    # Region 1 (Northeast)\n",
    "    'Maine': 'Northeast',\n",
    "    'New Hampshire': 'Northeast',\n",
    "    'Vermont': 'Northeast',\n",
    "    'Massachusetts': 'Northeast',\n",
    "    'Rhode Island': 'Northeast',\n",
    "    'Connecticut': 'Northeast',\n",
    "    'New York': 'Northeast',\n",
    "    'Pennsylvania': 'Northeast',\n",
    "    'New Jersey': 'Northeast',\n",
    "    \n",
    "    # Region 2 (Midwest)\n",
    "    'Wisconsin': 'Midwest',\n",
    "    'Michigan': 'Midwest',\n",
    "    'Illinois': 'Midwest',\n",
    "    'Indiana': 'Midwest',\n",
    "    'Ohio': 'Midwest',\n",
    "    'North Dakota': 'Midwest',\n",
    "    'South Dakota': 'Midwest',\n",
    "    'Nebraska': 'Midwest',\n",
    "    'Kansas': 'Midwest',\n",
    "    'Minnesota': 'Midwest',\n",
    "    'Iowa': 'Midwest',\n",
    "    'Missouri': 'Midwest',\n",
    "    \n",
    "    # Region 3 (South)\n",
    "    'Delaware': 'South',\n",
    "    'Maryland': 'South',\n",
    "    'District of Columbia': 'South',\n",
    "    'Virginia': 'South',\n",
    "    'West Virginia': 'South',\n",
    "    'North Carolina': 'South',\n",
    "    'South Carolina': 'South',\n",
    "    'Georgia': 'South',\n",
    "    'Florida': 'South',\n",
    "    'Kentucky': 'South',\n",
    "    'Tennessee': 'South',\n",
    "    'Mississippi': 'South',\n",
    "    'Alabama': 'South',\n",
    "    'Oklahoma': 'South',\n",
    "    'Texas': 'South',\n",
    "    'Arkansas': 'South',\n",
    "    'Louisiana': 'South',\n",
    "    \n",
    "    # Region 4 (West)\n",
    "    'Idaho': 'West',\n",
    "    'Montana': 'West',\n",
    "    'Wyoming': 'West',\n",
    "    'Nevada': 'West',\n",
    "    'Utah': 'West',\n",
    "    'Colorado': 'West',\n",
    "    'Arizona': 'West',\n",
    "    'New Mexico': 'West',\n",
    "    'Alaska': 'West',\n",
    "    'Washington': 'West',\n",
    "    'Oregon': 'West',\n",
    "    'California': 'West',\n",
    "    'Hawaii': 'West'\n",
    "}\n",
    "\n",
    "# Map the 'state' column to the 'region' column\n",
    "df['region'] = df['state'].map(state_to_region)\n",
    "\n",
    "# Verify the new column\n",
    "print(df[['state', 'region']].head())"
   ]
  },
  {
   "cell_type": "code",
   "execution_count": 11,
   "id": "c6fb6562-2df9-4ba7-a411-1873a911b6f8",
   "metadata": {},
   "outputs": [
    {
     "data": {
      "text/plain": [
       "Index(['Unnamed: 0', 'product_id', 'product_name', 'aisle_id', 'department_id',\n",
       "       'prices', 'order_id', 'user_id', 'order_number', 'orders_day_of_week',\n",
       "       'order_hour_of_day', 'days_since_order', 'add_to_cart_order',\n",
       "       'reordered', '_merge', 'busiest_day', 'day_category',\n",
       "       'busiest_period_of_day', 'max_order', 'loyalty_flag', 'max_price',\n",
       "       'Spending_rates', 'median_day_since_order', 'Order_frequency',\n",
       "       'first_name', 'last_name', 'gender', 'state', 'age', 'date_joined',\n",
       "       'dependants', 'fam_status', 'income', 'region'],\n",
       "      dtype='object')"
      ]
     },
     "execution_count": 11,
     "metadata": {},
     "output_type": "execute_result"
    }
   ],
   "source": [
    "df.columns"
   ]
  },
  {
   "cell_type": "markdown",
   "id": "5c12e7c1-11f4-4447-bc7f-7592de861307",
   "metadata": {},
   "source": [
    "## 2. Exclusion flag for customers with less than 5 orders"
   ]
  },
  {
   "cell_type": "code",
   "execution_count": 14,
   "id": "b277de37-e955-463f-a2f7-5ff2e14f4ebc",
   "metadata": {},
   "outputs": [],
   "source": [
    "df.loc[df['max_price'] > 5, 'spending_rates'] = 'Regular spender'"
   ]
  },
  {
   "cell_type": "code",
   "execution_count": 15,
   "id": "914d0ec8-5efe-4134-b4e1-bcaebe3c1c59",
   "metadata": {},
   "outputs": [],
   "source": [
    "df.loc[df['max_price'] <= 5, 'spending_rates'] = 'Low spender'"
   ]
  },
  {
   "cell_type": "code",
   "execution_count": 18,
   "id": "07080530-c5ea-461b-a064-448609fe9072",
   "metadata": {},
   "outputs": [],
   "source": [
    "# Filter out the customers who should be excluded. In this case it is those labeled 'Low spender'\n",
    "filtered_df = df[df['spending_rates'] !=  'Regular spender']"
   ]
  },
  {
   "cell_type": "code",
   "execution_count": 19,
   "id": "faf2412b-66ad-43e0-9a5c-fd9c5f5fb211",
   "metadata": {},
   "outputs": [],
   "source": [
    "# Filter out the 'Low spender' customers from our df\n",
    "df_filtered =df[df['spending_rates'] != 'Low spender']"
   ]
  },
  {
   "cell_type": "code",
   "execution_count": 20,
   "id": "abdde856-f477-45d5-8851-a568e55b908e",
   "metadata": {},
   "outputs": [],
   "source": [
    "df = df_filtered"
   ]
  },
  {
   "cell_type": "code",
   "execution_count": 21,
   "id": "1e6d2f6b-9848-4260-bfdf-107844e86888",
   "metadata": {},
   "outputs": [],
   "source": [
    "# Export the filtered DataFrame to a CSV file\n",
    "filtered_df.to_csv(os.path.join(path, '02 Data' , 'Prepared Data' , 'filtered_customers.csv'))"
   ]
  },
  {
   "cell_type": "markdown",
   "id": "b0dfa9d5-8be9-483b-9cad-d62bcfb00b00",
   "metadata": {},
   "source": [
    "## 3.Profiling variable based on age, income, certain good in the 'department_id' column and number of dependants"
   ]
  },
  {
   "cell_type": "markdown",
   "id": "83ad6302-9d04-4ed4-9765-71a35e846ecf",
   "metadata": {},
   "source": [
    "# 3.1 Age"
   ]
  },
  {
   "cell_type": "code",
   "execution_count": 28,
   "id": "9aec8abb-ad47-4467-8142-3c97b458c6d5",
   "metadata": {},
   "outputs": [],
   "source": [
    "#Creating age profiling variable\n",
    "df.loc[df['age']<=25, 'age_group'] = 'Young adult'"
   ]
  },
  {
   "cell_type": "code",
   "execution_count": 29,
   "id": "bbcab04e-3091-40c3-b32c-07a5973d44b8",
   "metadata": {},
   "outputs": [],
   "source": [
    "df.loc[(df['age']>25)&(df['age']<65), 'age_group']='Adult'"
   ]
  },
  {
   "cell_type": "code",
   "execution_count": 30,
   "id": "1e9b948a-86f3-4a76-9e40-c58aca9aba03",
   "metadata": {},
   "outputs": [],
   "source": [
    "df.loc[df['age']>=65, 'age_group']= 'Senior'"
   ]
  },
  {
   "cell_type": "code",
   "execution_count": 34,
   "id": "c56234e4-4d3e-4d37-8029-daa5067365f2",
   "metadata": {},
   "outputs": [
    {
     "data": {
      "text/plain": [
       "age_group\n",
       "Adult          20990901\n",
       "Senior          9098103\n",
       "Young adult     4291436\n",
       "Name: count, dtype: int64"
      ]
     },
     "execution_count": 34,
     "metadata": {},
     "output_type": "execute_result"
    }
   ],
   "source": [
    "df['age_group'].value_counts(dropna = False)"
   ]
  },
  {
   "cell_type": "code",
   "execution_count": 36,
   "id": "2a1aedd5-6098-4efd-b701-ee76ad35477b",
   "metadata": {},
   "outputs": [
    {
     "data": {
      "text/html": [
       "<div>\n",
       "<style scoped>\n",
       "    .dataframe tbody tr th:only-of-type {\n",
       "        vertical-align: middle;\n",
       "    }\n",
       "\n",
       "    .dataframe tbody tr th {\n",
       "        vertical-align: top;\n",
       "    }\n",
       "\n",
       "    .dataframe thead tr th {\n",
       "        text-align: left;\n",
       "    }\n",
       "\n",
       "    .dataframe thead tr:last-of-type th {\n",
       "        text-align: right;\n",
       "    }\n",
       "</style>\n",
       "<table border=\"1\" class=\"dataframe\">\n",
       "  <thead>\n",
       "    <tr>\n",
       "      <th></th>\n",
       "      <th colspan=\"3\" halign=\"left\">days_since_order</th>\n",
       "    </tr>\n",
       "    <tr>\n",
       "      <th></th>\n",
       "      <th>mean</th>\n",
       "      <th>min</th>\n",
       "      <th>max</th>\n",
       "    </tr>\n",
       "    <tr>\n",
       "      <th>age_group</th>\n",
       "      <th></th>\n",
       "      <th></th>\n",
       "      <th></th>\n",
       "    </tr>\n",
       "  </thead>\n",
       "  <tbody>\n",
       "    <tr>\n",
       "      <th>Adult</th>\n",
       "      <td>11.116781</td>\n",
       "      <td>0.0</td>\n",
       "      <td>30.0</td>\n",
       "    </tr>\n",
       "    <tr>\n",
       "      <th>Senior</th>\n",
       "      <td>11.080563</td>\n",
       "      <td>0.0</td>\n",
       "      <td>30.0</td>\n",
       "    </tr>\n",
       "    <tr>\n",
       "      <th>Young adult</th>\n",
       "      <td>11.094094</td>\n",
       "      <td>0.0</td>\n",
       "      <td>30.0</td>\n",
       "    </tr>\n",
       "  </tbody>\n",
       "</table>\n",
       "</div>"
      ],
      "text/plain": [
       "            days_since_order           \n",
       "                        mean  min   max\n",
       "age_group                              \n",
       "Adult              11.116781  0.0  30.0\n",
       "Senior             11.080563  0.0  30.0\n",
       "Young adult        11.094094  0.0  30.0"
      ]
     },
     "execution_count": 36,
     "metadata": {},
     "output_type": "execute_result"
    }
   ],
   "source": [
    "# Aggregate usage frequency by age group\n",
    "df.groupby('age_group').agg({'days_since_order': ['mean' , 'min' , 'max']})"
   ]
  },
  {
   "cell_type": "code",
   "execution_count": 38,
   "id": "a7bf66d1-df03-48a0-be46-451c21157d6d",
   "metadata": {},
   "outputs": [
    {
     "data": {
      "text/html": [
       "<div>\n",
       "<style scoped>\n",
       "    .dataframe tbody tr th:only-of-type {\n",
       "        vertical-align: middle;\n",
       "    }\n",
       "\n",
       "    .dataframe tbody tr th {\n",
       "        vertical-align: top;\n",
       "    }\n",
       "\n",
       "    .dataframe thead tr th {\n",
       "        text-align: left;\n",
       "    }\n",
       "\n",
       "    .dataframe thead tr:last-of-type th {\n",
       "        text-align: right;\n",
       "    }\n",
       "</style>\n",
       "<table border=\"1\" class=\"dataframe\">\n",
       "  <thead>\n",
       "    <tr>\n",
       "      <th></th>\n",
       "      <th colspan=\"3\" halign=\"left\">prices</th>\n",
       "    </tr>\n",
       "    <tr>\n",
       "      <th></th>\n",
       "      <th>mean</th>\n",
       "      <th>min</th>\n",
       "      <th>max</th>\n",
       "    </tr>\n",
       "    <tr>\n",
       "      <th>age_group</th>\n",
       "      <th></th>\n",
       "      <th></th>\n",
       "      <th></th>\n",
       "    </tr>\n",
       "  </thead>\n",
       "  <tbody>\n",
       "    <tr>\n",
       "      <th>Adult</th>\n",
       "      <td>12.032577</td>\n",
       "      <td>1.0</td>\n",
       "      <td>99999.0</td>\n",
       "    </tr>\n",
       "    <tr>\n",
       "      <th>Senior</th>\n",
       "      <td>11.769384</td>\n",
       "      <td>1.0</td>\n",
       "      <td>99999.0</td>\n",
       "    </tr>\n",
       "    <tr>\n",
       "      <th>Young adult</th>\n",
       "      <td>12.175529</td>\n",
       "      <td>1.0</td>\n",
       "      <td>99999.0</td>\n",
       "    </tr>\n",
       "  </tbody>\n",
       "</table>\n",
       "</div>"
      ],
      "text/plain": [
       "                prices              \n",
       "                  mean  min      max\n",
       "age_group                           \n",
       "Adult        12.032577  1.0  99999.0\n",
       "Senior       11.769384  1.0  99999.0\n",
       "Young adult  12.175529  1.0  99999.0"
      ]
     },
     "execution_count": 38,
     "metadata": {},
     "output_type": "execute_result"
    }
   ],
   "source": [
    "df.groupby('age_group').agg({'prices': ['mean','min','max']})"
   ]
  },
  {
   "cell_type": "code",
   "execution_count": 86,
   "id": "798bfcc8-45a6-4d27-a61b-bc19033a8fb9",
   "metadata": {},
   "outputs": [],
   "source": [
    "#Found prices at 99,999 and turned into NaNs\n",
    "df.loc[df['prices'] >100, 'prices'] = np.nan"
   ]
  },
  {
   "cell_type": "code",
   "execution_count": 88,
   "id": "7a856016-2b31-4a95-b891-a1259bdf4bf6",
   "metadata": {},
   "outputs": [
    {
     "data": {
      "image/png": "[encoded data removed]",
      "text/plain": [
       "<Figure size 640x480 with 1 Axes>"
      ]
     },
     "metadata": {},
     "output_type": "display_data"
    }
   ],
   "source": [
    "# Age profile visualization\n",
    "bar=df['age_group'].value_counts().plot.bar(color=['blue','green','purple'])"
   ]
  },
  {
   "cell_type": "code",
   "execution_count": 89,
   "id": "8753c901-dd73-40f9-be4e-e9eff1f1778c",
   "metadata": {},
   "outputs": [],
   "source": [
    "# Export bar chat\n",
    "bar.figure.savefig(os.path.join(path, '04 Analysis' , 'Visualizations' , 'bar_agegroup.png'))"
   ]
  },
  {
   "cell_type": "markdown",
   "id": "46be2764-8640-4baf-bc9d-81d432da1ff0",
   "metadata": {},
   "source": [
    "# 3.2 Income"
   ]
  },
  {
   "cell_type": "code",
   "execution_count": 93,
   "id": "f2c644f0-0f23-4c03-aa75-53f0fd2ee241",
   "metadata": {},
   "outputs": [],
   "source": [
    "df.loc[df['income'] <= 50000, 'income_group'] = 'Low'"
   ]
  },
  {
   "cell_type": "code",
   "execution_count": 95,
   "id": "b695f42b-7bea-4549-9638-b2f787c98f2e",
   "metadata": {},
   "outputs": [],
   "source": [
    "df.loc[(df['income'] > 50000) & (df['income'] <= 100000), 'income_group']  = 'Middle'"
   ]
  },
  {
   "cell_type": "code",
   "execution_count": 97,
   "id": "8d3ae7f3-d7f6-4b10-a2e3-0a86589f3989",
   "metadata": {},
   "outputs": [],
   "source": [
    "df.loc[df['income']> 100000, 'income_group'] = 'High'"
   ]
  },
  {
   "cell_type": "code",
   "execution_count": 99,
   "id": "1e4cc080-4122-4792-b116-96e1cff39d58",
   "metadata": {},
   "outputs": [
    {
     "data": {
      "text/plain": [
       "income_group\n",
       "High      15553068\n",
       "Middle    14760274\n",
       "Low        4067098\n",
       "Name: count, dtype: int64"
      ]
     },
     "execution_count": 99,
     "metadata": {},
     "output_type": "execute_result"
    }
   ],
   "source": [
    "df['income_group'].value_counts(dropna = False)"
   ]
  },
  {
   "cell_type": "code",
   "execution_count": 101,
   "id": "d6a3413e-9347-438b-b476-c9d4a7d69350",
   "metadata": {},
   "outputs": [
    {
     "data": {
      "text/html": [
       "<div>\n",
       "<style scoped>\n",
       "    .dataframe tbody tr th:only-of-type {\n",
       "        vertical-align: middle;\n",
       "    }\n",
       "\n",
       "    .dataframe tbody tr th {\n",
       "        vertical-align: top;\n",
       "    }\n",
       "\n",
       "    .dataframe thead tr th {\n",
       "        text-align: left;\n",
       "    }\n",
       "\n",
       "    .dataframe thead tr:last-of-type th {\n",
       "        text-align: right;\n",
       "    }\n",
       "</style>\n",
       "<table border=\"1\" class=\"dataframe\">\n",
       "  <thead>\n",
       "    <tr>\n",
       "      <th></th>\n",
       "      <th colspan=\"3\" halign=\"left\">days_since_order</th>\n",
       "    </tr>\n",
       "    <tr>\n",
       "      <th></th>\n",
       "      <th>mean</th>\n",
       "      <th>min</th>\n",
       "      <th>max</th>\n",
       "    </tr>\n",
       "    <tr>\n",
       "      <th>income_group</th>\n",
       "      <th></th>\n",
       "      <th></th>\n",
       "      <th></th>\n",
       "    </tr>\n",
       "  </thead>\n",
       "  <tbody>\n",
       "    <tr>\n",
       "      <th>High</th>\n",
       "      <td>11.044610</td>\n",
       "      <td>0.0</td>\n",
       "      <td>30.0</td>\n",
       "    </tr>\n",
       "    <tr>\n",
       "      <th>Low</th>\n",
       "      <td>11.549685</td>\n",
       "      <td>0.0</td>\n",
       "      <td>30.0</td>\n",
       "    </tr>\n",
       "    <tr>\n",
       "      <th>Middle</th>\n",
       "      <td>11.053334</td>\n",
       "      <td>0.0</td>\n",
       "      <td>30.0</td>\n",
       "    </tr>\n",
       "  </tbody>\n",
       "</table>\n",
       "</div>"
      ],
      "text/plain": [
       "             days_since_order           \n",
       "                         mean  min   max\n",
       "income_group                            \n",
       "High                11.044610  0.0  30.0\n",
       "Low                 11.549685  0.0  30.0\n",
       "Middle              11.053334  0.0  30.0"
      ]
     },
     "execution_count": 101,
     "metadata": {},
     "output_type": "execute_result"
    }
   ],
   "source": [
    "# Aggregate order frequency for income \n",
    "df.groupby('income_group').agg({'days_since_order' : ['mean','min','max']})"
   ]
  },
  {
   "cell_type": "code",
   "execution_count": 103,
   "id": "11a8019d-0b69-49fa-8292-27b83100293c",
   "metadata": {},
   "outputs": [
    {
     "data": {
      "text/html": [
       "<div>\n",
       "<style scoped>\n",
       "    .dataframe tbody tr th:only-of-type {\n",
       "        vertical-align: middle;\n",
       "    }\n",
       "\n",
       "    .dataframe tbody tr th {\n",
       "        vertical-align: top;\n",
       "    }\n",
       "\n",
       "    .dataframe thead tr th {\n",
       "        text-align: left;\n",
       "    }\n",
       "\n",
       "    .dataframe thead tr:last-of-type th {\n",
       "        text-align: right;\n",
       "    }\n",
       "</style>\n",
       "<table border=\"1\" class=\"dataframe\">\n",
       "  <thead>\n",
       "    <tr>\n",
       "      <th></th>\n",
       "      <th colspan=\"3\" halign=\"left\">prices</th>\n",
       "    </tr>\n",
       "    <tr>\n",
       "      <th></th>\n",
       "      <th>mean</th>\n",
       "      <th>min</th>\n",
       "      <th>max</th>\n",
       "    </tr>\n",
       "    <tr>\n",
       "      <th>income_group</th>\n",
       "      <th></th>\n",
       "      <th></th>\n",
       "      <th></th>\n",
       "    </tr>\n",
       "  </thead>\n",
       "  <tbody>\n",
       "    <tr>\n",
       "      <th>High</th>\n",
       "      <td>7.959222</td>\n",
       "      <td>1.0</td>\n",
       "      <td>25.0</td>\n",
       "    </tr>\n",
       "    <tr>\n",
       "      <th>Low</th>\n",
       "      <td>6.699461</td>\n",
       "      <td>1.0</td>\n",
       "      <td>25.0</td>\n",
       "    </tr>\n",
       "    <tr>\n",
       "      <th>Middle</th>\n",
       "      <td>7.893944</td>\n",
       "      <td>1.0</td>\n",
       "      <td>25.0</td>\n",
       "    </tr>\n",
       "  </tbody>\n",
       "</table>\n",
       "</div>"
      ],
      "text/plain": [
       "                prices           \n",
       "                  mean  min   max\n",
       "income_group                     \n",
       "High          7.959222  1.0  25.0\n",
       "Low           6.699461  1.0  25.0\n",
       "Middle        7.893944  1.0  25.0"
      ]
     },
     "execution_count": 103,
     "metadata": {},
     "output_type": "execute_result"
    }
   ],
   "source": [
    "# Aggregate expenditure for income\n",
    "df.groupby('income_group').agg({'prices': ['mean','min','max']})"
   ]
  },
  {
   "cell_type": "code",
   "execution_count": 104,
   "id": "36a2cecc-0004-47c1-a183-fb5a9d3fe3ee",
   "metadata": {},
   "outputs": [
    {
     "data": {
      "image/png": "[encoded data removed]",
      "text/plain": [
       "<Figure size 640x480 with 1 Axes>"
      ]
     },
     "metadata": {},
     "output_type": "display_data"
    }
   ],
   "source": [
    "# Income profile visualization\n",
    "bar2 = df['income_group'].value_counts().sort_values().plot.barh()"
   ]
  },
  {
   "cell_type": "code",
   "execution_count": 61,
   "id": "e3187853-b5ac-4221-a351-eb0a80ca666e",
   "metadata": {},
   "outputs": [],
   "source": [
    "# Export bar chart\n",
    "bar2.figure.savefig(os.path.join(path, '04 Analysis' , 'Visualizations' , 'bar_incomegroup.png'))"
   ]
  },
  {
   "cell_type": "markdown",
   "id": "5dcaffb8-353b-41c3-958f-352cafc12efd",
   "metadata": {},
   "source": [
    "# 3.3 Number of dependants"
   ]
  },
  {
   "cell_type": "code",
   "execution_count": 64,
   "id": "0e90f5ef-9cd9-4517-86aa-c060e6d5ce47",
   "metadata": {},
   "outputs": [],
   "source": [
    "# Divide data into cst with dependants and cst without dependants\n",
    "df.loc[df['dependants'] > 0, 'dependant_flag'] = 'Has dependants'"
   ]
  },
  {
   "cell_type": "code",
   "execution_count": 66,
   "id": "254a4309-98a2-443b-a9ad-a59bd6296b08",
   "metadata": {},
   "outputs": [],
   "source": [
    "df.loc[df['dependants'] == 0, 'dependant_flag'] = 'No dependants'"
   ]
  },
  {
   "cell_type": "code",
   "execution_count": 68,
   "id": "9bb94f24-478d-4df4-999a-900d804ae5a2",
   "metadata": {},
   "outputs": [
    {
     "data": {
      "text/plain": [
       "dependant_flag\n",
       "Has dependants    25786046\n",
       "No dependants      8594394\n",
       "Name: count, dtype: int64"
      ]
     },
     "execution_count": 68,
     "metadata": {},
     "output_type": "execute_result"
    }
   ],
   "source": [
    "# Data check\n",
    "df['dependant_flag'].value_counts(dropna = False)"
   ]
  },
  {
   "cell_type": "code",
   "execution_count": 69,
   "id": "e902e504-73b5-476b-98a3-e276153599eb",
   "metadata": {},
   "outputs": [
    {
     "data": {
      "text/html": [
       "<div>\n",
       "<style scoped>\n",
       "    .dataframe tbody tr th:only-of-type {\n",
       "        vertical-align: middle;\n",
       "    }\n",
       "\n",
       "    .dataframe tbody tr th {\n",
       "        vertical-align: top;\n",
       "    }\n",
       "\n",
       "    .dataframe thead tr th {\n",
       "        text-align: left;\n",
       "    }\n",
       "\n",
       "    .dataframe thead tr:last-of-type th {\n",
       "        text-align: right;\n",
       "    }\n",
       "</style>\n",
       "<table border=\"1\" class=\"dataframe\">\n",
       "  <thead>\n",
       "    <tr>\n",
       "      <th></th>\n",
       "      <th colspan=\"3\" halign=\"left\">days_since_order</th>\n",
       "    </tr>\n",
       "    <tr>\n",
       "      <th></th>\n",
       "      <th>mean</th>\n",
       "      <th>min</th>\n",
       "      <th>max</th>\n",
       "    </tr>\n",
       "    <tr>\n",
       "      <th>dependant_flag</th>\n",
       "      <th></th>\n",
       "      <th></th>\n",
       "      <th></th>\n",
       "    </tr>\n",
       "  </thead>\n",
       "  <tbody>\n",
       "    <tr>\n",
       "      <th>Has dependants</th>\n",
       "      <td>11.111651</td>\n",
       "      <td>0.0</td>\n",
       "      <td>30.0</td>\n",
       "    </tr>\n",
       "    <tr>\n",
       "      <th>No dependants</th>\n",
       "      <td>11.082493</td>\n",
       "      <td>0.0</td>\n",
       "      <td>30.0</td>\n",
       "    </tr>\n",
       "  </tbody>\n",
       "</table>\n",
       "</div>"
      ],
      "text/plain": [
       "               days_since_order           \n",
       "                           mean  min   max\n",
       "dependant_flag                            \n",
       "Has dependants        11.111651  0.0  30.0\n",
       "No dependants         11.082493  0.0  30.0"
      ]
     },
     "execution_count": 69,
     "metadata": {},
     "output_type": "execute_result"
    }
   ],
   "source": [
    "# Aggregate order frequency for dependant group\n",
    "df.groupby('dependant_flag').agg({'days_since_order': ['mean' , 'min' , 'max']})"
   ]
  },
  {
   "cell_type": "code",
   "execution_count": 71,
   "id": "73ceb56c-3cce-4024-b2f5-058f340595bf",
   "metadata": {},
   "outputs": [
    {
     "data": {
      "text/html": [
       "<div>\n",
       "<style scoped>\n",
       "    .dataframe tbody tr th:only-of-type {\n",
       "        vertical-align: middle;\n",
       "    }\n",
       "\n",
       "    .dataframe tbody tr th {\n",
       "        vertical-align: top;\n",
       "    }\n",
       "\n",
       "    .dataframe thead tr th {\n",
       "        text-align: left;\n",
       "    }\n",
       "\n",
       "    .dataframe thead tr:last-of-type th {\n",
       "        text-align: right;\n",
       "    }\n",
       "</style>\n",
       "<table border=\"1\" class=\"dataframe\">\n",
       "  <thead>\n",
       "    <tr>\n",
       "      <th></th>\n",
       "      <th colspan=\"3\" halign=\"left\">prices</th>\n",
       "    </tr>\n",
       "    <tr>\n",
       "      <th></th>\n",
       "      <th>mean</th>\n",
       "      <th>min</th>\n",
       "      <th>max</th>\n",
       "    </tr>\n",
       "    <tr>\n",
       "      <th>dependant_flag</th>\n",
       "      <th></th>\n",
       "      <th></th>\n",
       "      <th></th>\n",
       "    </tr>\n",
       "  </thead>\n",
       "  <tbody>\n",
       "    <tr>\n",
       "      <th>Has dependants</th>\n",
       "      <td>7.791698</td>\n",
       "      <td>1.0</td>\n",
       "      <td>25.0</td>\n",
       "    </tr>\n",
       "    <tr>\n",
       "      <th>No dependants</th>\n",
       "      <td>7.790333</td>\n",
       "      <td>1.0</td>\n",
       "      <td>25.0</td>\n",
       "    </tr>\n",
       "  </tbody>\n",
       "</table>\n",
       "</div>"
      ],
      "text/plain": [
       "                  prices           \n",
       "                    mean  min   max\n",
       "dependant_flag                     \n",
       "Has dependants  7.791698  1.0  25.0\n",
       "No dependants   7.790333  1.0  25.0"
      ]
     },
     "execution_count": 71,
     "metadata": {},
     "output_type": "execute_result"
    }
   ],
   "source": [
    "# Aggregate expenditure for dependant group\n",
    "df.groupby('dependant_flag').agg({'prices':['mean','min','max']})"
   ]
  },
  {
   "cell_type": "code",
   "execution_count": 500,
   "id": "e9ba0acf-949c-44bd-94b1-e709edb9d2a9",
   "metadata": {},
   "outputs": [
    {
     "data": {
      "image/png": "[encoded data removed]",
      "text/plain": [
       "<Figure size 640x480 with 1 Axes>"
      ]
     },
     "metadata": {},
     "output_type": "display_data"
    }
   ],
   "source": [
    "bar3 = df['dependant_flag'].value_counts().sort_values().plot.barh()"
   ]
  },
  {
   "cell_type": "code",
   "execution_count": 501,
   "id": "5538ecf7-19c4-459e-bbb8-86d2dc8345ad",
   "metadata": {},
   "outputs": [],
   "source": [
    "# Export bar chart\n",
    "bar3.figure.savefig(os.path.join(path, '04 Analysis' , 'Visualizations' , 'bar_dependantgroup.png'))"
   ]
  },
  {
   "cell_type": "markdown",
   "id": "3f768b1e-10d3-4900-8da6-942abd0a32d2",
   "metadata": {},
   "source": [
    "# 4. Visualizations"
   ]
  },
  {
   "cell_type": "code",
   "execution_count": 503,
   "id": "177bc495-8ab3-4c35-bc61-1b71467a71ee",
   "metadata": {},
   "outputs": [
    {
     "name": "stdout",
     "output_type": "stream",
     "text": [
      "Index(['Unnamed: 0', 'product_id', 'product_name', 'aisle_id', 'department_id',\n",
      "       'prices', 'order_id', 'user_id', 'order_number', 'orders_day_of_week',\n",
      "       'order_hour_of_day', 'days_since_order', 'add_to_cart_order',\n",
      "       'reordered', '_merge', 'busiest_day', 'day_category',\n",
      "       'busiest_period_of_day', 'max_order', 'loyalty_flag', 'max_price',\n",
      "       'Spending_rates', 'median_day_since_order', 'Order_frequency',\n",
      "       'first_name', 'last_name', 'gender', 'state', 'age', 'date_joined',\n",
      "       'dependants', 'fam_status', 'income', 'region', 'spending_rates',\n",
      "       'age_group', 'income_group', 'dependant_flag'],\n",
      "      dtype='object')\n"
     ]
    }
   ],
   "source": [
    "print(df.columns)"
   ]
  },
  {
   "cell_type": "code",
   "execution_count": 504,
   "id": "e8fdb1ef-522a-4dfa-a5a7-764465ac4633",
   "metadata": {},
   "outputs": [],
   "source": [
    "df_user_sample = df[['user_id' , 'age_group' , 'income_group' , 'dependant_flag' , 'region' , 'loyalty_flag']]"
   ]
  },
  {
   "cell_type": "code",
   "execution_count": 505,
   "id": "a36dfe9b-c296-4fb0-9e43-2186ff337d72",
   "metadata": {},
   "outputs": [],
   "source": [
    "# Remove duplicates \n",
    "df_user_sample = df_user_sample.drop_duplicates()"
   ]
  },
  {
   "cell_type": "code",
   "execution_count": 506,
   "id": "2ed1dd55-79f0-4fd7-8b05-b4bc04f87883",
   "metadata": {},
   "outputs": [
    {
     "data": {
      "text/html": [
       "<div>\n",
       "<style scoped>\n",
       "    .dataframe tbody tr th:only-of-type {\n",
       "        vertical-align: middle;\n",
       "    }\n",
       "\n",
       "    .dataframe tbody tr th {\n",
       "        vertical-align: top;\n",
       "    }\n",
       "\n",
       "    .dataframe thead th {\n",
       "        text-align: right;\n",
       "    }\n",
       "</style>\n",
       "<table border=\"1\" class=\"dataframe\">\n",
       "  <thead>\n",
       "    <tr style=\"text-align: right;\">\n",
       "      <th></th>\n",
       "      <th>user_id</th>\n",
       "      <th>age_group</th>\n",
       "      <th>income_group</th>\n",
       "      <th>dependant_flag</th>\n",
       "      <th>region</th>\n",
       "      <th>loyalty_flag</th>\n",
       "    </tr>\n",
       "  </thead>\n",
       "  <tbody>\n",
       "    <tr>\n",
       "      <th>0</th>\n",
       "      <td>1</td>\n",
       "      <td>Adult</td>\n",
       "      <td>Low</td>\n",
       "      <td>Has dependants</td>\n",
       "      <td>South</td>\n",
       "      <td>New customer</td>\n",
       "    </tr>\n",
       "    <tr>\n",
       "      <th>10</th>\n",
       "      <td>2</td>\n",
       "      <td>Senior</td>\n",
       "      <td>Middle</td>\n",
       "      <td>Has dependants</td>\n",
       "      <td>West</td>\n",
       "      <td>Regular customer</td>\n",
       "    </tr>\n",
       "    <tr>\n",
       "      <th>22</th>\n",
       "      <td>3</td>\n",
       "      <td>Adult</td>\n",
       "      <td>Middle</td>\n",
       "      <td>Has dependants</td>\n",
       "      <td>West</td>\n",
       "      <td>Regular customer</td>\n",
       "    </tr>\n",
       "    <tr>\n",
       "      <th>27</th>\n",
       "      <td>4</td>\n",
       "      <td>Adult</td>\n",
       "      <td>Low</td>\n",
       "      <td>Has dependants</td>\n",
       "      <td>South</td>\n",
       "      <td>New customer</td>\n",
       "    </tr>\n",
       "    <tr>\n",
       "      <th>28</th>\n",
       "      <td>5</td>\n",
       "      <td>Senior</td>\n",
       "      <td>High</td>\n",
       "      <td>No dependants</td>\n",
       "      <td>West</td>\n",
       "      <td>NaN</td>\n",
       "    </tr>\n",
       "  </tbody>\n",
       "</table>\n",
       "</div>"
      ],
      "text/plain": [
       "    user_id age_group income_group  dependant_flag region      loyalty_flag\n",
       "0         1     Adult          Low  Has dependants  South      New customer\n",
       "10        2    Senior       Middle  Has dependants   West  Regular customer\n",
       "22        3     Adult       Middle  Has dependants   West  Regular customer\n",
       "27        4     Adult          Low  Has dependants  South      New customer\n",
       "28        5    Senior         High   No dependants   West               NaN"
      ]
     },
     "execution_count": 506,
     "metadata": {},
     "output_type": "execute_result"
    }
   ],
   "source": [
    "df_user_sample.head()"
   ]
  },
  {
   "cell_type": "code",
   "execution_count": 507,
   "id": "7d428dcb-fe49-4757-95e3-087d861d625c",
   "metadata": {},
   "outputs": [
    {
     "data": {
      "text/plain": [
       "Text(0.5, 0, 'Region')"
      ]
     },
     "execution_count": 507,
     "metadata": {},
     "output_type": "execute_result"
    },
    {
     "data": {
      "image/png": "[encoded data removed]",
      "text/plain": [
       "<Figure size 1000x600 with 1 Axes>"
      ]
     },
     "metadata": {},
     "output_type": "display_data"
    }
   ],
   "source": [
    "# A histogram could work to show the count of customers in each income group by region\n",
    "plt.figure(figsize=(10, 6))\n",
    "# Plot the histogram bars\n",
    "sns.histplot(data=df_user_sample, x='region', hue='income_group', multiple='dodge', shrink=.8, alpha=1)\n",
    "# Overlay a grid behind the bars\n",
    "plt.gca().set_axisbelow(True)  # Ensure grid is behind bars\n",
    "plt.grid(axis='y', color='gray', linestyle='dashed')\n",
    "# General formatting\n",
    "plt.title('Distribution of Customer Income groups by Region')\n",
    "plt.ylabel('No. of Customers')\n",
    "plt.xlabel('Region')"
   ]
  },
  {
   "cell_type": "code",
   "execution_count": 508,
   "id": "55f8adc7-483a-4812-9b2d-2f1554d2750a",
   "metadata": {},
   "outputs": [
    {
     "data": {
      "text/plain": [
       "<Figure size 640x480 with 0 Axes>"
      ]
     },
     "metadata": {},
     "output_type": "display_data"
    }
   ],
   "source": [
    "# Save fig\n",
    "plt.savefig(os.path.join(path, '04 Analysis' , 'Visualizations' , 'instacart_income_by_region.png'))"
   ]
  },
  {
   "cell_type": "code",
   "execution_count": 509,
   "id": "daaab96e-7841-4e96-b242-d4d04d6343d0",
   "metadata": {},
   "outputs": [
    {
     "data": {
      "text/plain": [
       "Text(0.5, 0, 'Region')"
      ]
     },
     "execution_count": 509,
     "metadata": {},
     "output_type": "execute_result"
    },
    {
     "data": {
      "image/png": "[encoded data removed]",
      "text/plain": [
       "<Figure size 1000x600 with 1 Axes>"
      ]
     },
     "metadata": {},
     "output_type": "display_data"
    }
   ],
   "source": [
    "plt.figure(figsize=(10, 6))\n",
    "# Plot the histogram bars\n",
    "sns.histplot(data=df_user_sample, x='region', hue='age_group', multiple='dodge', shrink=.8, alpha=1)\n",
    "# Overlay a grid behind the bars\n",
    "plt.gca().set_axisbelow(True)  # Ensure grid is behind bars\n",
    "plt.grid(axis='y', color='gray', linestyle='dashed')\n",
    "# General formatting\n",
    "plt.title('Distribution of Customer Age Groups by Region')\n",
    "plt.ylabel('No. of Customers')\n",
    "plt.xlabel('Region')"
   ]
  },
  {
   "cell_type": "code",
   "execution_count": 510,
   "id": "6bbe52f1-a6fb-474f-9078-35b1718f4362",
   "metadata": {},
   "outputs": [],
   "source": [
    "# An aggregated subset of data with 'prices' column as the total cost of each order:\n",
    "orders_subset = df.groupby(['user_id', 'age_group', 'income_group', 'dependant_flag', 'loyalty_flag', 'region', 'order_number', 'days_since_order'])['prices'].sum().reset_index()"
   ]
  },
  {
   "cell_type": "code",
   "execution_count": 511,
   "id": "5ead23b5-e8e6-400c-9e8e-c4908f80d6f5",
   "metadata": {},
   "outputs": [],
   "source": [
    "# Rename 'prices' to 'order_total'\n",
    "orders_subset.rename(columns = {'prices' : 'order_total'}, inplace = True)"
   ]
  },
  {
   "cell_type": "code",
   "execution_count": 512,
   "id": "b2af9393-e512-4f22-8954-e98d62ca4c11",
   "metadata": {},
   "outputs": [
    {
     "data": {
      "text/html": [
       "<div>\n",
       "<style scoped>\n",
       "    .dataframe tbody tr th:only-of-type {\n",
       "        vertical-align: middle;\n",
       "    }\n",
       "\n",
       "    .dataframe tbody tr th {\n",
       "        vertical-align: top;\n",
       "    }\n",
       "\n",
       "    .dataframe thead th {\n",
       "        text-align: right;\n",
       "    }\n",
       "</style>\n",
       "<table border=\"1\" class=\"dataframe\">\n",
       "  <thead>\n",
       "    <tr style=\"text-align: right;\">\n",
       "      <th></th>\n",
       "      <th>user_id</th>\n",
       "      <th>age_group</th>\n",
       "      <th>income_group</th>\n",
       "      <th>dependant_flag</th>\n",
       "      <th>loyalty_flag</th>\n",
       "      <th>region</th>\n",
       "      <th>order_number</th>\n",
       "      <th>days_since_order</th>\n",
       "      <th>order_total</th>\n",
       "    </tr>\n",
       "  </thead>\n",
       "  <tbody>\n",
       "    <tr>\n",
       "      <th>0</th>\n",
       "      <td>1</td>\n",
       "      <td>Adult</td>\n",
       "      <td>Low</td>\n",
       "      <td>Has dependants</td>\n",
       "      <td>New customer</td>\n",
       "      <td>South</td>\n",
       "      <td>1.0</td>\n",
       "      <td>11.11484</td>\n",
       "      <td>31.6</td>\n",
       "    </tr>\n",
       "    <tr>\n",
       "      <th>1</th>\n",
       "      <td>1</td>\n",
       "      <td>Adult</td>\n",
       "      <td>Low</td>\n",
       "      <td>Has dependants</td>\n",
       "      <td>New customer</td>\n",
       "      <td>South</td>\n",
       "      <td>2.0</td>\n",
       "      <td>15.00000</td>\n",
       "      <td>35.4</td>\n",
       "    </tr>\n",
       "    <tr>\n",
       "      <th>2</th>\n",
       "      <td>1</td>\n",
       "      <td>Adult</td>\n",
       "      <td>Low</td>\n",
       "      <td>Has dependants</td>\n",
       "      <td>New customer</td>\n",
       "      <td>South</td>\n",
       "      <td>3.0</td>\n",
       "      <td>21.00000</td>\n",
       "      <td>28.2</td>\n",
       "    </tr>\n",
       "    <tr>\n",
       "      <th>3</th>\n",
       "      <td>1</td>\n",
       "      <td>Adult</td>\n",
       "      <td>Low</td>\n",
       "      <td>Has dependants</td>\n",
       "      <td>New customer</td>\n",
       "      <td>South</td>\n",
       "      <td>4.0</td>\n",
       "      <td>29.00000</td>\n",
       "      <td>26.0</td>\n",
       "    </tr>\n",
       "    <tr>\n",
       "      <th>4</th>\n",
       "      <td>1</td>\n",
       "      <td>Adult</td>\n",
       "      <td>Low</td>\n",
       "      <td>Has dependants</td>\n",
       "      <td>New customer</td>\n",
       "      <td>South</td>\n",
       "      <td>5.0</td>\n",
       "      <td>28.00000</td>\n",
       "      <td>57.0</td>\n",
       "    </tr>\n",
       "    <tr>\n",
       "      <th>...</th>\n",
       "      <td>...</td>\n",
       "      <td>...</td>\n",
       "      <td>...</td>\n",
       "      <td>...</td>\n",
       "      <td>...</td>\n",
       "      <td>...</td>\n",
       "      <td>...</td>\n",
       "      <td>...</td>\n",
       "      <td>...</td>\n",
       "    </tr>\n",
       "    <tr>\n",
       "      <th>3212701</th>\n",
       "      <td>206209</td>\n",
       "      <td>Senior</td>\n",
       "      <td>High</td>\n",
       "      <td>Has dependants</td>\n",
       "      <td>Regular customer</td>\n",
       "      <td>Midwest</td>\n",
       "      <td>9.0</td>\n",
       "      <td>22.00000</td>\n",
       "      <td>26.2</td>\n",
       "    </tr>\n",
       "    <tr>\n",
       "      <th>3212702</th>\n",
       "      <td>206209</td>\n",
       "      <td>Senior</td>\n",
       "      <td>High</td>\n",
       "      <td>Has dependants</td>\n",
       "      <td>Regular customer</td>\n",
       "      <td>Midwest</td>\n",
       "      <td>10.0</td>\n",
       "      <td>29.00000</td>\n",
       "      <td>64.7</td>\n",
       "    </tr>\n",
       "    <tr>\n",
       "      <th>3212703</th>\n",
       "      <td>206209</td>\n",
       "      <td>Senior</td>\n",
       "      <td>High</td>\n",
       "      <td>Has dependants</td>\n",
       "      <td>Regular customer</td>\n",
       "      <td>Midwest</td>\n",
       "      <td>11.0</td>\n",
       "      <td>30.00000</td>\n",
       "      <td>56.1</td>\n",
       "    </tr>\n",
       "    <tr>\n",
       "      <th>3212704</th>\n",
       "      <td>206209</td>\n",
       "      <td>Senior</td>\n",
       "      <td>High</td>\n",
       "      <td>Has dependants</td>\n",
       "      <td>Regular customer</td>\n",
       "      <td>Midwest</td>\n",
       "      <td>12.0</td>\n",
       "      <td>18.00000</td>\n",
       "      <td>131.5</td>\n",
       "    </tr>\n",
       "    <tr>\n",
       "      <th>3212705</th>\n",
       "      <td>206209</td>\n",
       "      <td>Senior</td>\n",
       "      <td>High</td>\n",
       "      <td>Has dependants</td>\n",
       "      <td>Regular customer</td>\n",
       "      <td>Midwest</td>\n",
       "      <td>13.0</td>\n",
       "      <td>7.00000</td>\n",
       "      <td>61.2</td>\n",
       "    </tr>\n",
       "  </tbody>\n",
       "</table>\n",
       "<p>3212706 rows × 9 columns</p>\n",
       "</div>"
      ],
      "text/plain": [
       "         user_id age_group income_group  dependant_flag      loyalty_flag  \\\n",
       "0              1     Adult          Low  Has dependants      New customer   \n",
       "1              1     Adult          Low  Has dependants      New customer   \n",
       "2              1     Adult          Low  Has dependants      New customer   \n",
       "3              1     Adult          Low  Has dependants      New customer   \n",
       "4              1     Adult          Low  Has dependants      New customer   \n",
       "...          ...       ...          ...             ...               ...   \n",
       "3212701   206209    Senior         High  Has dependants  Regular customer   \n",
       "3212702   206209    Senior         High  Has dependants  Regular customer   \n",
       "3212703   206209    Senior         High  Has dependants  Regular customer   \n",
       "3212704   206209    Senior         High  Has dependants  Regular customer   \n",
       "3212705   206209    Senior         High  Has dependants  Regular customer   \n",
       "\n",
       "          region  order_number  days_since_order  order_total  \n",
       "0          South           1.0          11.11484         31.6  \n",
       "1          South           2.0          15.00000         35.4  \n",
       "2          South           3.0          21.00000         28.2  \n",
       "3          South           4.0          29.00000         26.0  \n",
       "4          South           5.0          28.00000         57.0  \n",
       "...          ...           ...               ...          ...  \n",
       "3212701  Midwest           9.0          22.00000         26.2  \n",
       "3212702  Midwest          10.0          29.00000         64.7  \n",
       "3212703  Midwest          11.0          30.00000         56.1  \n",
       "3212704  Midwest          12.0          18.00000        131.5  \n",
       "3212705  Midwest          13.0           7.00000         61.2  \n",
       "\n",
       "[3212706 rows x 9 columns]"
      ]
     },
     "execution_count": 512,
     "metadata": {},
     "output_type": "execute_result"
    }
   ],
   "source": [
    "# Check subset\n",
    "orders_subset"
   ]
  },
  {
   "cell_type": "code",
   "execution_count": 513,
   "id": "d6fa4f30-be78-4aeb-8be5-b5d720879168",
   "metadata": {},
   "outputs": [
    {
     "data": {
      "text/html": [
       "<div>\n",
       "<style scoped>\n",
       "    .dataframe tbody tr th:only-of-type {\n",
       "        vertical-align: middle;\n",
       "    }\n",
       "\n",
       "    .dataframe tbody tr th {\n",
       "        vertical-align: top;\n",
       "    }\n",
       "\n",
       "    .dataframe thead tr th {\n",
       "        text-align: left;\n",
       "    }\n",
       "\n",
       "    .dataframe thead tr:last-of-type th {\n",
       "        text-align: right;\n",
       "    }\n",
       "</style>\n",
       "<table border=\"1\" class=\"dataframe\">\n",
       "  <thead>\n",
       "    <tr>\n",
       "      <th></th>\n",
       "      <th colspan=\"3\" halign=\"left\">days_since_order</th>\n",
       "      <th colspan=\"3\" halign=\"left\">order_total</th>\n",
       "    </tr>\n",
       "    <tr>\n",
       "      <th></th>\n",
       "      <th>min</th>\n",
       "      <th>mean</th>\n",
       "      <th>max</th>\n",
       "      <th>min</th>\n",
       "      <th>mean</th>\n",
       "      <th>max</th>\n",
       "    </tr>\n",
       "    <tr>\n",
       "      <th>age_group</th>\n",
       "      <th></th>\n",
       "      <th></th>\n",
       "      <th></th>\n",
       "      <th></th>\n",
       "      <th></th>\n",
       "      <th></th>\n",
       "    </tr>\n",
       "  </thead>\n",
       "  <tbody>\n",
       "    <tr>\n",
       "      <th>Adult</th>\n",
       "      <td>0.0</td>\n",
       "      <td>10.738660</td>\n",
       "      <td>30.0</td>\n",
       "      <td>0.0</td>\n",
       "      <td>78.657931</td>\n",
       "      <td>1092.2</td>\n",
       "    </tr>\n",
       "    <tr>\n",
       "      <th>Senior</th>\n",
       "      <td>0.0</td>\n",
       "      <td>10.711099</td>\n",
       "      <td>30.0</td>\n",
       "      <td>0.0</td>\n",
       "      <td>78.290983</td>\n",
       "      <td>787.0</td>\n",
       "    </tr>\n",
       "    <tr>\n",
       "      <th>Young adult</th>\n",
       "      <td>0.0</td>\n",
       "      <td>10.726054</td>\n",
       "      <td>30.0</td>\n",
       "      <td>0.0</td>\n",
       "      <td>78.745681</td>\n",
       "      <td>842.1</td>\n",
       "    </tr>\n",
       "  </tbody>\n",
       "</table>\n",
       "</div>"
      ],
      "text/plain": [
       "            days_since_order                  order_total                   \n",
       "                         min       mean   max         min       mean     max\n",
       "age_group                                                                   \n",
       "Adult                    0.0  10.738660  30.0         0.0  78.657931  1092.2\n",
       "Senior                   0.0  10.711099  30.0         0.0  78.290983   787.0\n",
       "Young adult              0.0  10.726054  30.0         0.0  78.745681   842.1"
      ]
     },
     "execution_count": 513,
     "metadata": {},
     "output_type": "execute_result"
    }
   ],
   "source": [
    "# max, min, mean by age category\n",
    "aggregations_by_age_cat = orders_subset.groupby('age_group').agg({'days_since_order' : ['min', 'mean', 'max'], \n",
    "                                                                  'order_total' : ['min', 'mean', 'max']})\n",
    "# Check\n",
    "aggregations_by_age_cat"
   ]
  },
  {
   "cell_type": "code",
   "execution_count": 514,
   "id": "196e71b3-0989-4b70-a1c3-c623fb91e71a",
   "metadata": {},
   "outputs": [],
   "source": [
    "# It seems that all age groups spend on avg the same and order the roughly the same amount of times"
   ]
  },
  {
   "cell_type": "code",
   "execution_count": 515,
   "id": "572438ac-2516-48b7-9f47-d9b14625a7f8",
   "metadata": {},
   "outputs": [
    {
     "data": {
      "text/html": [
       "<div>\n",
       "<style scoped>\n",
       "    .dataframe tbody tr th:only-of-type {\n",
       "        vertical-align: middle;\n",
       "    }\n",
       "\n",
       "    .dataframe tbody tr th {\n",
       "        vertical-align: top;\n",
       "    }\n",
       "\n",
       "    .dataframe thead tr th {\n",
       "        text-align: left;\n",
       "    }\n",
       "\n",
       "    .dataframe thead tr:last-of-type th {\n",
       "        text-align: right;\n",
       "    }\n",
       "</style>\n",
       "<table border=\"1\" class=\"dataframe\">\n",
       "  <thead>\n",
       "    <tr>\n",
       "      <th></th>\n",
       "      <th colspan=\"3\" halign=\"left\">days_since_order</th>\n",
       "      <th colspan=\"3\" halign=\"left\">order_total</th>\n",
       "    </tr>\n",
       "    <tr>\n",
       "      <th></th>\n",
       "      <th>min</th>\n",
       "      <th>mean</th>\n",
       "      <th>max</th>\n",
       "      <th>min</th>\n",
       "      <th>mean</th>\n",
       "      <th>max</th>\n",
       "    </tr>\n",
       "    <tr>\n",
       "      <th>income_group</th>\n",
       "      <th></th>\n",
       "      <th></th>\n",
       "      <th></th>\n",
       "      <th></th>\n",
       "      <th></th>\n",
       "      <th></th>\n",
       "    </tr>\n",
       "  </thead>\n",
       "  <tbody>\n",
       "    <tr>\n",
       "      <th>High</th>\n",
       "      <td>0.0</td>\n",
       "      <td>10.585681</td>\n",
       "      <td>30.0</td>\n",
       "      <td>0.0</td>\n",
       "      <td>83.819068</td>\n",
       "      <td>1092.2</td>\n",
       "    </tr>\n",
       "    <tr>\n",
       "      <th>Low</th>\n",
       "      <td>0.0</td>\n",
       "      <td>11.464446</td>\n",
       "      <td>30.0</td>\n",
       "      <td>1.0</td>\n",
       "      <td>52.618085</td>\n",
       "      <td>875.0</td>\n",
       "    </tr>\n",
       "    <tr>\n",
       "      <th>Middle</th>\n",
       "      <td>0.0</td>\n",
       "      <td>10.630915</td>\n",
       "      <td>30.0</td>\n",
       "      <td>0.0</td>\n",
       "      <td>81.898890</td>\n",
       "      <td>852.5</td>\n",
       "    </tr>\n",
       "  </tbody>\n",
       "</table>\n",
       "</div>"
      ],
      "text/plain": [
       "             days_since_order                  order_total                   \n",
       "                          min       mean   max         min       mean     max\n",
       "income_group                                                                 \n",
       "High                      0.0  10.585681  30.0         0.0  83.819068  1092.2\n",
       "Low                       0.0  11.464446  30.0         1.0  52.618085   875.0\n",
       "Middle                    0.0  10.630915  30.0         0.0  81.898890   852.5"
      ]
     },
     "execution_count": 515,
     "metadata": {},
     "output_type": "execute_result"
    }
   ],
   "source": [
    "# max, min, mean by age category\n",
    "aggregations_by_income_cat = orders_subset.groupby('income_group').agg({'days_since_order' : ['min', 'mean', 'max'],\n",
    "                                                                        'order_total' : ['min', 'mean', 'max']})\n",
    "# Check\n",
    "aggregations_by_income_cat"
   ]
  },
  {
   "cell_type": "code",
   "execution_count": 516,
   "id": "b7294def-6c43-497b-84ad-9d5a5c979480",
   "metadata": {},
   "outputs": [],
   "source": [
    "# low income seem to shop less often and spend less each trip"
   ]
  },
  {
   "cell_type": "code",
   "execution_count": 517,
   "id": "4309463b-16fc-4330-8535-f3f181f09afb",
   "metadata": {},
   "outputs": [
    {
     "data": {
      "text/html": [
       "<div>\n",
       "<style scoped>\n",
       "    .dataframe tbody tr th:only-of-type {\n",
       "        vertical-align: middle;\n",
       "    }\n",
       "\n",
       "    .dataframe tbody tr th {\n",
       "        vertical-align: top;\n",
       "    }\n",
       "\n",
       "    .dataframe thead tr th {\n",
       "        text-align: left;\n",
       "    }\n",
       "\n",
       "    .dataframe thead tr:last-of-type th {\n",
       "        text-align: right;\n",
       "    }\n",
       "</style>\n",
       "<table border=\"1\" class=\"dataframe\">\n",
       "  <thead>\n",
       "    <tr>\n",
       "      <th></th>\n",
       "      <th colspan=\"3\" halign=\"left\">days_since_order</th>\n",
       "      <th colspan=\"3\" halign=\"left\">order_total</th>\n",
       "    </tr>\n",
       "    <tr>\n",
       "      <th></th>\n",
       "      <th>min</th>\n",
       "      <th>mean</th>\n",
       "      <th>max</th>\n",
       "      <th>min</th>\n",
       "      <th>mean</th>\n",
       "      <th>max</th>\n",
       "    </tr>\n",
       "    <tr>\n",
       "      <th>dependant_flag</th>\n",
       "      <th></th>\n",
       "      <th></th>\n",
       "      <th></th>\n",
       "      <th></th>\n",
       "      <th></th>\n",
       "      <th></th>\n",
       "    </tr>\n",
       "  </thead>\n",
       "  <tbody>\n",
       "    <tr>\n",
       "      <th>Has dependants</th>\n",
       "      <td>0.0</td>\n",
       "      <td>10.733964</td>\n",
       "      <td>30.0</td>\n",
       "      <td>0.0</td>\n",
       "      <td>78.637500</td>\n",
       "      <td>1092.2</td>\n",
       "    </tr>\n",
       "    <tr>\n",
       "      <th>No dependants</th>\n",
       "      <td>0.0</td>\n",
       "      <td>10.717207</td>\n",
       "      <td>30.0</td>\n",
       "      <td>0.0</td>\n",
       "      <td>78.373349</td>\n",
       "      <td>875.0</td>\n",
       "    </tr>\n",
       "  </tbody>\n",
       "</table>\n",
       "</div>"
      ],
      "text/plain": [
       "               days_since_order                  order_total             \\\n",
       "                            min       mean   max         min       mean   \n",
       "dependant_flag                                                            \n",
       "Has dependants              0.0  10.733964  30.0         0.0  78.637500   \n",
       "No dependants               0.0  10.717207  30.0         0.0  78.373349   \n",
       "\n",
       "                        \n",
       "                   max  \n",
       "dependant_flag          \n",
       "Has dependants  1092.2  \n",
       "No dependants    875.0  "
      ]
     },
     "execution_count": 517,
     "metadata": {},
     "output_type": "execute_result"
    }
   ],
   "source": [
    "# max, min, mean by dependents category\n",
    "aggregations_by_dependents_cat = orders_subset.groupby('dependant_flag').agg({'days_since_order' : ['min', 'mean', 'max'],\n",
    "                                                                               'order_total' : ['min', 'mean', 'max']})\n",
    "# Check\n",
    "aggregations_by_dependents_cat"
   ]
  },
  {
   "cell_type": "code",
   "execution_count": 518,
   "id": "3b3ee71d-6df9-480d-8cf5-097f4aa91a21",
   "metadata": {},
   "outputs": [],
   "source": [
    "# there seems to be little difference between those with dependants and those without "
   ]
  },
  {
   "cell_type": "code",
   "execution_count": 519,
   "id": "0c3a3899-325d-4e69-acb3-eef5ec856787",
   "metadata": {},
   "outputs": [
    {
     "data": {
      "text/html": [
       "<div>\n",
       "<style scoped>\n",
       "    .dataframe tbody tr th:only-of-type {\n",
       "        vertical-align: middle;\n",
       "    }\n",
       "\n",
       "    .dataframe tbody tr th {\n",
       "        vertical-align: top;\n",
       "    }\n",
       "\n",
       "    .dataframe thead th {\n",
       "        text-align: right;\n",
       "    }\n",
       "</style>\n",
       "<table border=\"1\" class=\"dataframe\">\n",
       "  <thead>\n",
       "    <tr style=\"text-align: right;\">\n",
       "      <th></th>\n",
       "      <th>Unnamed: 0</th>\n",
       "      <th>product_id</th>\n",
       "      <th>product_name</th>\n",
       "      <th>aisle_id</th>\n",
       "      <th>department_id</th>\n",
       "      <th>prices</th>\n",
       "      <th>order_id</th>\n",
       "      <th>user_id</th>\n",
       "      <th>order_number</th>\n",
       "      <th>orders_day_of_week</th>\n",
       "      <th>...</th>\n",
       "      <th>age</th>\n",
       "      <th>date_joined</th>\n",
       "      <th>dependants</th>\n",
       "      <th>fam_status</th>\n",
       "      <th>income</th>\n",
       "      <th>region</th>\n",
       "      <th>spending_rates</th>\n",
       "      <th>age_group</th>\n",
       "      <th>income_group</th>\n",
       "      <th>dependant_flag</th>\n",
       "    </tr>\n",
       "  </thead>\n",
       "  <tbody>\n",
       "    <tr>\n",
       "      <th>0</th>\n",
       "      <td>195.0</td>\n",
       "      <td>196.0</td>\n",
       "      <td>Soda</td>\n",
       "      <td>77.0</td>\n",
       "      <td>7.0</td>\n",
       "      <td>9.0</td>\n",
       "      <td>2539329.0</td>\n",
       "      <td>1</td>\n",
       "      <td>1.0</td>\n",
       "      <td>2.0</td>\n",
       "      <td>...</td>\n",
       "      <td>31</td>\n",
       "      <td>2/17/2019</td>\n",
       "      <td>3</td>\n",
       "      <td>married</td>\n",
       "      <td>40423</td>\n",
       "      <td>South</td>\n",
       "      <td>Regular spender</td>\n",
       "      <td>Adult</td>\n",
       "      <td>Low</td>\n",
       "      <td>Has dependants</td>\n",
       "    </tr>\n",
       "    <tr>\n",
       "      <th>1</th>\n",
       "      <td>195.0</td>\n",
       "      <td>196.0</td>\n",
       "      <td>Soda</td>\n",
       "      <td>77.0</td>\n",
       "      <td>7.0</td>\n",
       "      <td>9.0</td>\n",
       "      <td>2398795.0</td>\n",
       "      <td>1</td>\n",
       "      <td>2.0</td>\n",
       "      <td>3.0</td>\n",
       "      <td>...</td>\n",
       "      <td>31</td>\n",
       "      <td>2/17/2019</td>\n",
       "      <td>3</td>\n",
       "      <td>married</td>\n",
       "      <td>40423</td>\n",
       "      <td>South</td>\n",
       "      <td>Regular spender</td>\n",
       "      <td>Adult</td>\n",
       "      <td>Low</td>\n",
       "      <td>Has dependants</td>\n",
       "    </tr>\n",
       "    <tr>\n",
       "      <th>2</th>\n",
       "      <td>195.0</td>\n",
       "      <td>196.0</td>\n",
       "      <td>Soda</td>\n",
       "      <td>77.0</td>\n",
       "      <td>7.0</td>\n",
       "      <td>9.0</td>\n",
       "      <td>473747.0</td>\n",
       "      <td>1</td>\n",
       "      <td>3.0</td>\n",
       "      <td>3.0</td>\n",
       "      <td>...</td>\n",
       "      <td>31</td>\n",
       "      <td>2/17/2019</td>\n",
       "      <td>3</td>\n",
       "      <td>married</td>\n",
       "      <td>40423</td>\n",
       "      <td>South</td>\n",
       "      <td>Regular spender</td>\n",
       "      <td>Adult</td>\n",
       "      <td>Low</td>\n",
       "      <td>Has dependants</td>\n",
       "    </tr>\n",
       "    <tr>\n",
       "      <th>3</th>\n",
       "      <td>195.0</td>\n",
       "      <td>196.0</td>\n",
       "      <td>Soda</td>\n",
       "      <td>77.0</td>\n",
       "      <td>7.0</td>\n",
       "      <td>9.0</td>\n",
       "      <td>2254736.0</td>\n",
       "      <td>1</td>\n",
       "      <td>4.0</td>\n",
       "      <td>4.0</td>\n",
       "      <td>...</td>\n",
       "      <td>31</td>\n",
       "      <td>2/17/2019</td>\n",
       "      <td>3</td>\n",
       "      <td>married</td>\n",
       "      <td>40423</td>\n",
       "      <td>South</td>\n",
       "      <td>Regular spender</td>\n",
       "      <td>Adult</td>\n",
       "      <td>Low</td>\n",
       "      <td>Has dependants</td>\n",
       "    </tr>\n",
       "    <tr>\n",
       "      <th>4</th>\n",
       "      <td>195.0</td>\n",
       "      <td>196.0</td>\n",
       "      <td>Soda</td>\n",
       "      <td>77.0</td>\n",
       "      <td>7.0</td>\n",
       "      <td>9.0</td>\n",
       "      <td>431534.0</td>\n",
       "      <td>1</td>\n",
       "      <td>5.0</td>\n",
       "      <td>4.0</td>\n",
       "      <td>...</td>\n",
       "      <td>31</td>\n",
       "      <td>2/17/2019</td>\n",
       "      <td>3</td>\n",
       "      <td>married</td>\n",
       "      <td>40423</td>\n",
       "      <td>South</td>\n",
       "      <td>Regular spender</td>\n",
       "      <td>Adult</td>\n",
       "      <td>Low</td>\n",
       "      <td>Has dependants</td>\n",
       "    </tr>\n",
       "  </tbody>\n",
       "</table>\n",
       "<p>5 rows × 38 columns</p>\n",
       "</div>"
      ],
      "text/plain": [
       "   Unnamed: 0  product_id product_name  aisle_id  department_id  prices  \\\n",
       "0       195.0       196.0         Soda      77.0            7.0     9.0   \n",
       "1       195.0       196.0         Soda      77.0            7.0     9.0   \n",
       "2       195.0       196.0         Soda      77.0            7.0     9.0   \n",
       "3       195.0       196.0         Soda      77.0            7.0     9.0   \n",
       "4       195.0       196.0         Soda      77.0            7.0     9.0   \n",
       "\n",
       "    order_id  user_id  order_number  orders_day_of_week  ...  age  \\\n",
       "0  2539329.0        1           1.0                 2.0  ...   31   \n",
       "1  2398795.0        1           2.0                 3.0  ...   31   \n",
       "2   473747.0        1           3.0                 3.0  ...   31   \n",
       "3  2254736.0        1           4.0                 4.0  ...   31   \n",
       "4   431534.0        1           5.0                 4.0  ...   31   \n",
       "\n",
       "   date_joined  dependants  fam_status income region   spending_rates  \\\n",
       "0    2/17/2019           3     married  40423  South  Regular spender   \n",
       "1    2/17/2019           3     married  40423  South  Regular spender   \n",
       "2    2/17/2019           3     married  40423  South  Regular spender   \n",
       "3    2/17/2019           3     married  40423  South  Regular spender   \n",
       "4    2/17/2019           3     married  40423  South  Regular spender   \n",
       "\n",
       "  age_group  income_group  dependant_flag  \n",
       "0     Adult           Low  Has dependants  \n",
       "1     Adult           Low  Has dependants  \n",
       "2     Adult           Low  Has dependants  \n",
       "3     Adult           Low  Has dependants  \n",
       "4     Adult           Low  Has dependants  \n",
       "\n",
       "[5 rows x 38 columns]"
      ]
     },
     "execution_count": 519,
     "metadata": {},
     "output_type": "execute_result"
    }
   ],
   "source": [
    "df.head()"
   ]
  },
  {
   "cell_type": "markdown",
   "id": "1d09f2bc-8025-43b1-82d0-f5120f4a70ce",
   "metadata": {},
   "source": [
    "# 5. Customer profiles based on region and departments"
   ]
  },
  {
   "cell_type": "code",
   "execution_count": 521,
   "id": "14372cf6-2bc7-48e3-a4a9-3154f190ffdf",
   "metadata": {},
   "outputs": [],
   "source": [
    "# Get names of each department back into the data\n",
    "df_dept = pd.read_csv(os.path.join(path, '02 Data', 'Prepared Data', 'departments_wrangled.csv'))"
   ]
  },
  {
   "cell_type": "code",
   "execution_count": 522,
   "id": "7859d6fe-e4c5-4e80-9fb1-ba32d9bffda2",
   "metadata": {},
   "outputs": [],
   "source": [
    "#Rename column 'Unnamed: 0' to 'department_id'\n",
    "\n",
    "df_dept.rename(columns = {'Unnamed: 0':'department_id'}, inplace = True)"
   ]
  },
  {
   "cell_type": "code",
   "execution_count": 523,
   "id": "9ace5a13-26f6-4d2c-aeda-003ad73dcf6f",
   "metadata": {},
   "outputs": [
    {
     "data": {
      "text/html": [
       "<div>\n",
       "<style scoped>\n",
       "    .dataframe tbody tr th:only-of-type {\n",
       "        vertical-align: middle;\n",
       "    }\n",
       "\n",
       "    .dataframe tbody tr th {\n",
       "        vertical-align: top;\n",
       "    }\n",
       "\n",
       "    .dataframe thead th {\n",
       "        text-align: right;\n",
       "    }\n",
       "</style>\n",
       "<table border=\"1\" class=\"dataframe\">\n",
       "  <thead>\n",
       "    <tr style=\"text-align: right;\">\n",
       "      <th></th>\n",
       "      <th>department_id</th>\n",
       "      <th>department</th>\n",
       "    </tr>\n",
       "  </thead>\n",
       "  <tbody>\n",
       "    <tr>\n",
       "      <th>0</th>\n",
       "      <td>1</td>\n",
       "      <td>frozen</td>\n",
       "    </tr>\n",
       "    <tr>\n",
       "      <th>1</th>\n",
       "      <td>2</td>\n",
       "      <td>other</td>\n",
       "    </tr>\n",
       "    <tr>\n",
       "      <th>2</th>\n",
       "      <td>3</td>\n",
       "      <td>bakery</td>\n",
       "    </tr>\n",
       "    <tr>\n",
       "      <th>3</th>\n",
       "      <td>4</td>\n",
       "      <td>produce</td>\n",
       "    </tr>\n",
       "    <tr>\n",
       "      <th>4</th>\n",
       "      <td>5</td>\n",
       "      <td>alcohol</td>\n",
       "    </tr>\n",
       "    <tr>\n",
       "      <th>5</th>\n",
       "      <td>6</td>\n",
       "      <td>international</td>\n",
       "    </tr>\n",
       "    <tr>\n",
       "      <th>6</th>\n",
       "      <td>7</td>\n",
       "      <td>beverages</td>\n",
       "    </tr>\n",
       "    <tr>\n",
       "      <th>7</th>\n",
       "      <td>8</td>\n",
       "      <td>pets</td>\n",
       "    </tr>\n",
       "    <tr>\n",
       "      <th>8</th>\n",
       "      <td>9</td>\n",
       "      <td>dry goods pasta</td>\n",
       "    </tr>\n",
       "    <tr>\n",
       "      <th>9</th>\n",
       "      <td>10</td>\n",
       "      <td>bulk</td>\n",
       "    </tr>\n",
       "    <tr>\n",
       "      <th>10</th>\n",
       "      <td>11</td>\n",
       "      <td>personal care</td>\n",
       "    </tr>\n",
       "    <tr>\n",
       "      <th>11</th>\n",
       "      <td>12</td>\n",
       "      <td>meat seafood</td>\n",
       "    </tr>\n",
       "    <tr>\n",
       "      <th>12</th>\n",
       "      <td>13</td>\n",
       "      <td>pantry</td>\n",
       "    </tr>\n",
       "    <tr>\n",
       "      <th>13</th>\n",
       "      <td>14</td>\n",
       "      <td>breakfast</td>\n",
       "    </tr>\n",
       "    <tr>\n",
       "      <th>14</th>\n",
       "      <td>15</td>\n",
       "      <td>canned goods</td>\n",
       "    </tr>\n",
       "    <tr>\n",
       "      <th>15</th>\n",
       "      <td>16</td>\n",
       "      <td>dairy eggs</td>\n",
       "    </tr>\n",
       "    <tr>\n",
       "      <th>16</th>\n",
       "      <td>17</td>\n",
       "      <td>household</td>\n",
       "    </tr>\n",
       "    <tr>\n",
       "      <th>17</th>\n",
       "      <td>18</td>\n",
       "      <td>babies</td>\n",
       "    </tr>\n",
       "    <tr>\n",
       "      <th>18</th>\n",
       "      <td>19</td>\n",
       "      <td>snacks</td>\n",
       "    </tr>\n",
       "    <tr>\n",
       "      <th>19</th>\n",
       "      <td>20</td>\n",
       "      <td>deli</td>\n",
       "    </tr>\n",
       "    <tr>\n",
       "      <th>20</th>\n",
       "      <td>21</td>\n",
       "      <td>missing</td>\n",
       "    </tr>\n",
       "  </tbody>\n",
       "</table>\n",
       "</div>"
      ],
      "text/plain": [
       "    department_id       department\n",
       "0               1           frozen\n",
       "1               2            other\n",
       "2               3           bakery\n",
       "3               4          produce\n",
       "4               5          alcohol\n",
       "5               6    international\n",
       "6               7        beverages\n",
       "7               8             pets\n",
       "8               9  dry goods pasta\n",
       "9              10             bulk\n",
       "10             11    personal care\n",
       "11             12     meat seafood\n",
       "12             13           pantry\n",
       "13             14        breakfast\n",
       "14             15     canned goods\n",
       "15             16       dairy eggs\n",
       "16             17        household\n",
       "17             18           babies\n",
       "18             19           snacks\n",
       "19             20             deli\n",
       "20             21          missing"
      ]
     },
     "execution_count": 523,
     "metadata": {},
     "output_type": "execute_result"
    }
   ],
   "source": [
    "df_dept"
   ]
  },
  {
   "cell_type": "code",
   "execution_count": 524,
   "id": "0ff8993f-6d11-408a-8c8c-2059a8e0509f",
   "metadata": {},
   "outputs": [
    {
     "data": {
      "text/plain": [
       "{1: 'frozen',\n",
       " 2: 'other',\n",
       " 3: 'bakery',\n",
       " 4: 'produce',\n",
       " 5: 'alcohol',\n",
       " 6: 'international',\n",
       " 7: 'beverages',\n",
       " 8: 'pets',\n",
       " 9: 'dry goods pasta',\n",
       " 10: 'bulk',\n",
       " 11: 'personal care',\n",
       " 12: 'meat seafood',\n",
       " 13: 'pantry',\n",
       " 14: 'breakfast',\n",
       " 15: 'canned goods',\n",
       " 16: 'dairy eggs',\n",
       " 17: 'household',\n",
       " 18: 'babies',\n",
       " 19: 'snacks',\n",
       " 20: 'deli',\n",
       " 21: 'missing'}"
      ]
     },
     "execution_count": 524,
     "metadata": {},
     "output_type": "execute_result"
    }
   ],
   "source": [
    "# Turning department dataframe into data dictionary\n",
    "zipped = zip (df_dept['department_id'], df_dept['department'])\n",
    "data_dict = dict(zipped)\n",
    "data_dict"
   ]
  },
  {
   "cell_type": "code",
   "execution_count": 525,
   "id": "aa49be0c-4c8a-456b-b719-f03b45d65c3d",
   "metadata": {},
   "outputs": [],
   "source": [
    "# Connect department names to department_id in dataframe\n",
    "\n",
    "df['department'] = df['department_id'].map(data_dict)"
   ]
  },
  {
   "cell_type": "code",
   "execution_count": 526,
   "id": "a6261916-13f8-495c-839b-005219efc3e8",
   "metadata": {},
   "outputs": [
    {
     "data": {
      "text/html": [
       "<div>\n",
       "<style scoped>\n",
       "    .dataframe tbody tr th:only-of-type {\n",
       "        vertical-align: middle;\n",
       "    }\n",
       "\n",
       "    .dataframe tbody tr th {\n",
       "        vertical-align: top;\n",
       "    }\n",
       "\n",
       "    .dataframe thead th {\n",
       "        text-align: right;\n",
       "    }\n",
       "</style>\n",
       "<table border=\"1\" class=\"dataframe\">\n",
       "  <thead>\n",
       "    <tr style=\"text-align: right;\">\n",
       "      <th></th>\n",
       "      <th>Unnamed: 0</th>\n",
       "      <th>product_id</th>\n",
       "      <th>product_name</th>\n",
       "      <th>aisle_id</th>\n",
       "      <th>department_id</th>\n",
       "      <th>prices</th>\n",
       "      <th>order_id</th>\n",
       "      <th>user_id</th>\n",
       "      <th>order_number</th>\n",
       "      <th>orders_day_of_week</th>\n",
       "      <th>...</th>\n",
       "      <th>date_joined</th>\n",
       "      <th>dependants</th>\n",
       "      <th>fam_status</th>\n",
       "      <th>income</th>\n",
       "      <th>region</th>\n",
       "      <th>spending_rates</th>\n",
       "      <th>age_group</th>\n",
       "      <th>income_group</th>\n",
       "      <th>dependant_flag</th>\n",
       "      <th>department</th>\n",
       "    </tr>\n",
       "  </thead>\n",
       "  <tbody>\n",
       "    <tr>\n",
       "      <th>0</th>\n",
       "      <td>195.0</td>\n",
       "      <td>196.0</td>\n",
       "      <td>Soda</td>\n",
       "      <td>77.0</td>\n",
       "      <td>7.0</td>\n",
       "      <td>9.0</td>\n",
       "      <td>2539329.0</td>\n",
       "      <td>1</td>\n",
       "      <td>1.0</td>\n",
       "      <td>2.0</td>\n",
       "      <td>...</td>\n",
       "      <td>2/17/2019</td>\n",
       "      <td>3</td>\n",
       "      <td>married</td>\n",
       "      <td>40423</td>\n",
       "      <td>South</td>\n",
       "      <td>Regular spender</td>\n",
       "      <td>Adult</td>\n",
       "      <td>Low</td>\n",
       "      <td>Has dependants</td>\n",
       "      <td>beverages</td>\n",
       "    </tr>\n",
       "    <tr>\n",
       "      <th>1</th>\n",
       "      <td>195.0</td>\n",
       "      <td>196.0</td>\n",
       "      <td>Soda</td>\n",
       "      <td>77.0</td>\n",
       "      <td>7.0</td>\n",
       "      <td>9.0</td>\n",
       "      <td>2398795.0</td>\n",
       "      <td>1</td>\n",
       "      <td>2.0</td>\n",
       "      <td>3.0</td>\n",
       "      <td>...</td>\n",
       "      <td>2/17/2019</td>\n",
       "      <td>3</td>\n",
       "      <td>married</td>\n",
       "      <td>40423</td>\n",
       "      <td>South</td>\n",
       "      <td>Regular spender</td>\n",
       "      <td>Adult</td>\n",
       "      <td>Low</td>\n",
       "      <td>Has dependants</td>\n",
       "      <td>beverages</td>\n",
       "    </tr>\n",
       "    <tr>\n",
       "      <th>2</th>\n",
       "      <td>195.0</td>\n",
       "      <td>196.0</td>\n",
       "      <td>Soda</td>\n",
       "      <td>77.0</td>\n",
       "      <td>7.0</td>\n",
       "      <td>9.0</td>\n",
       "      <td>473747.0</td>\n",
       "      <td>1</td>\n",
       "      <td>3.0</td>\n",
       "      <td>3.0</td>\n",
       "      <td>...</td>\n",
       "      <td>2/17/2019</td>\n",
       "      <td>3</td>\n",
       "      <td>married</td>\n",
       "      <td>40423</td>\n",
       "      <td>South</td>\n",
       "      <td>Regular spender</td>\n",
       "      <td>Adult</td>\n",
       "      <td>Low</td>\n",
       "      <td>Has dependants</td>\n",
       "      <td>beverages</td>\n",
       "    </tr>\n",
       "    <tr>\n",
       "      <th>3</th>\n",
       "      <td>195.0</td>\n",
       "      <td>196.0</td>\n",
       "      <td>Soda</td>\n",
       "      <td>77.0</td>\n",
       "      <td>7.0</td>\n",
       "      <td>9.0</td>\n",
       "      <td>2254736.0</td>\n",
       "      <td>1</td>\n",
       "      <td>4.0</td>\n",
       "      <td>4.0</td>\n",
       "      <td>...</td>\n",
       "      <td>2/17/2019</td>\n",
       "      <td>3</td>\n",
       "      <td>married</td>\n",
       "      <td>40423</td>\n",
       "      <td>South</td>\n",
       "      <td>Regular spender</td>\n",
       "      <td>Adult</td>\n",
       "      <td>Low</td>\n",
       "      <td>Has dependants</td>\n",
       "      <td>beverages</td>\n",
       "    </tr>\n",
       "    <tr>\n",
       "      <th>4</th>\n",
       "      <td>195.0</td>\n",
       "      <td>196.0</td>\n",
       "      <td>Soda</td>\n",
       "      <td>77.0</td>\n",
       "      <td>7.0</td>\n",
       "      <td>9.0</td>\n",
       "      <td>431534.0</td>\n",
       "      <td>1</td>\n",
       "      <td>5.0</td>\n",
       "      <td>4.0</td>\n",
       "      <td>...</td>\n",
       "      <td>2/17/2019</td>\n",
       "      <td>3</td>\n",
       "      <td>married</td>\n",
       "      <td>40423</td>\n",
       "      <td>South</td>\n",
       "      <td>Regular spender</td>\n",
       "      <td>Adult</td>\n",
       "      <td>Low</td>\n",
       "      <td>Has dependants</td>\n",
       "      <td>beverages</td>\n",
       "    </tr>\n",
       "  </tbody>\n",
       "</table>\n",
       "<p>5 rows × 39 columns</p>\n",
       "</div>"
      ],
      "text/plain": [
       "   Unnamed: 0  product_id product_name  aisle_id  department_id  prices  \\\n",
       "0       195.0       196.0         Soda      77.0            7.0     9.0   \n",
       "1       195.0       196.0         Soda      77.0            7.0     9.0   \n",
       "2       195.0       196.0         Soda      77.0            7.0     9.0   \n",
       "3       195.0       196.0         Soda      77.0            7.0     9.0   \n",
       "4       195.0       196.0         Soda      77.0            7.0     9.0   \n",
       "\n",
       "    order_id  user_id  order_number  orders_day_of_week  ...  date_joined  \\\n",
       "0  2539329.0        1           1.0                 2.0  ...    2/17/2019   \n",
       "1  2398795.0        1           2.0                 3.0  ...    2/17/2019   \n",
       "2   473747.0        1           3.0                 3.0  ...    2/17/2019   \n",
       "3  2254736.0        1           4.0                 4.0  ...    2/17/2019   \n",
       "4   431534.0        1           5.0                 4.0  ...    2/17/2019   \n",
       "\n",
       "   dependants  fam_status  income region   spending_rates age_group  \\\n",
       "0           3     married   40423  South  Regular spender     Adult   \n",
       "1           3     married   40423  South  Regular spender     Adult   \n",
       "2           3     married   40423  South  Regular spender     Adult   \n",
       "3           3     married   40423  South  Regular spender     Adult   \n",
       "4           3     married   40423  South  Regular spender     Adult   \n",
       "\n",
       "  income_group  dependant_flag department  \n",
       "0          Low  Has dependants  beverages  \n",
       "1          Low  Has dependants  beverages  \n",
       "2          Low  Has dependants  beverages  \n",
       "3          Low  Has dependants  beverages  \n",
       "4          Low  Has dependants  beverages  \n",
       "\n",
       "[5 rows x 39 columns]"
      ]
     },
     "execution_count": 526,
     "metadata": {},
     "output_type": "execute_result"
    }
   ],
   "source": [
    "# Checking dataframe\n",
    "\n",
    "df.head()"
   ]
  },
  {
   "cell_type": "code",
   "execution_count": 527,
   "id": "ee6cd298-55a0-4d12-8973-46bd99ad4fed",
   "metadata": {},
   "outputs": [],
   "source": [
    "# Creating crosstab for region and department\n",
    "\n",
    "region_dep = pd.crosstab(df['department'], df['region'], dropna = False)"
   ]
  },
  {
   "cell_type": "code",
   "execution_count": 528,
   "id": "87c6f9b3-dd0a-4137-8657-f97c3f632107",
   "metadata": {},
   "outputs": [
    {
     "data": {
      "text/html": [
       "<div>\n",
       "<style scoped>\n",
       "    .dataframe tbody tr th:only-of-type {\n",
       "        vertical-align: middle;\n",
       "    }\n",
       "\n",
       "    .dataframe tbody tr th {\n",
       "        vertical-align: top;\n",
       "    }\n",
       "\n",
       "    .dataframe thead th {\n",
       "        text-align: right;\n",
       "    }\n",
       "</style>\n",
       "<table border=\"1\" class=\"dataframe\">\n",
       "  <thead>\n",
       "    <tr style=\"text-align: right;\">\n",
       "      <th>region</th>\n",
       "      <th>Midwest</th>\n",
       "      <th>Northeast</th>\n",
       "      <th>South</th>\n",
       "      <th>West</th>\n",
       "    </tr>\n",
       "    <tr>\n",
       "      <th>department</th>\n",
       "      <th></th>\n",
       "      <th></th>\n",
       "      <th></th>\n",
       "      <th></th>\n",
       "    </tr>\n",
       "  </thead>\n",
       "  <tbody>\n",
       "    <tr>\n",
       "      <th>alcohol</th>\n",
       "      <td>36182</td>\n",
       "      <td>26559</td>\n",
       "      <td>51630</td>\n",
       "      <td>39356</td>\n",
       "    </tr>\n",
       "    <tr>\n",
       "      <th>babies</th>\n",
       "      <td>98983</td>\n",
       "      <td>75138</td>\n",
       "      <td>143654</td>\n",
       "      <td>106026</td>\n",
       "    </tr>\n",
       "    <tr>\n",
       "      <th>bakery</th>\n",
       "      <td>273866</td>\n",
       "      <td>208599</td>\n",
       "      <td>388813</td>\n",
       "      <td>301144</td>\n",
       "    </tr>\n",
       "    <tr>\n",
       "      <th>beverages</th>\n",
       "      <td>625425</td>\n",
       "      <td>483265</td>\n",
       "      <td>898631</td>\n",
       "      <td>679939</td>\n",
       "    </tr>\n",
       "    <tr>\n",
       "      <th>breakfast</th>\n",
       "      <td>163771</td>\n",
       "      <td>123746</td>\n",
       "      <td>234616</td>\n",
       "      <td>181924</td>\n",
       "    </tr>\n",
       "    <tr>\n",
       "      <th>bulk</th>\n",
       "      <td>8193</td>\n",
       "      <td>5802</td>\n",
       "      <td>11533</td>\n",
       "      <td>9045</td>\n",
       "    </tr>\n",
       "    <tr>\n",
       "      <th>canned goods</th>\n",
       "      <td>250700</td>\n",
       "      <td>186750</td>\n",
       "      <td>356012</td>\n",
       "      <td>274583</td>\n",
       "    </tr>\n",
       "    <tr>\n",
       "      <th>dairy eggs</th>\n",
       "      <td>1264111</td>\n",
       "      <td>953998</td>\n",
       "      <td>1796869</td>\n",
       "      <td>1383467</td>\n",
       "    </tr>\n",
       "    <tr>\n",
       "      <th>deli</th>\n",
       "      <td>245678</td>\n",
       "      <td>186806</td>\n",
       "      <td>349401</td>\n",
       "      <td>269306</td>\n",
       "    </tr>\n",
       "    <tr>\n",
       "      <th>dry goods pasta</th>\n",
       "      <td>203769</td>\n",
       "      <td>151816</td>\n",
       "      <td>287440</td>\n",
       "      <td>223598</td>\n",
       "    </tr>\n",
       "    <tr>\n",
       "      <th>frozen</th>\n",
       "      <td>524092</td>\n",
       "      <td>390908</td>\n",
       "      <td>747858</td>\n",
       "      <td>571826</td>\n",
       "    </tr>\n",
       "    <tr>\n",
       "      <th>household</th>\n",
       "      <td>175798</td>\n",
       "      <td>131473</td>\n",
       "      <td>243052</td>\n",
       "      <td>188277</td>\n",
       "    </tr>\n",
       "    <tr>\n",
       "      <th>international</th>\n",
       "      <td>63735</td>\n",
       "      <td>46891</td>\n",
       "      <td>89141</td>\n",
       "      <td>69484</td>\n",
       "    </tr>\n",
       "    <tr>\n",
       "      <th>meat seafood</th>\n",
       "      <td>166129</td>\n",
       "      <td>124620</td>\n",
       "      <td>235752</td>\n",
       "      <td>182426</td>\n",
       "    </tr>\n",
       "    <tr>\n",
       "      <th>missing</th>\n",
       "      <td>16535</td>\n",
       "      <td>12374</td>\n",
       "      <td>23193</td>\n",
       "      <td>17042</td>\n",
       "    </tr>\n",
       "    <tr>\n",
       "      <th>other</th>\n",
       "      <td>8418</td>\n",
       "      <td>6585</td>\n",
       "      <td>12210</td>\n",
       "      <td>9069</td>\n",
       "    </tr>\n",
       "    <tr>\n",
       "      <th>pantry</th>\n",
       "      <td>442089</td>\n",
       "      <td>329440</td>\n",
       "      <td>622411</td>\n",
       "      <td>481374</td>\n",
       "    </tr>\n",
       "    <tr>\n",
       "      <th>personal care</th>\n",
       "      <td>105763</td>\n",
       "      <td>78821</td>\n",
       "      <td>150368</td>\n",
       "      <td>112667</td>\n",
       "    </tr>\n",
       "    <tr>\n",
       "      <th>pets</th>\n",
       "      <td>22355</td>\n",
       "      <td>18601</td>\n",
       "      <td>31265</td>\n",
       "      <td>25488</td>\n",
       "    </tr>\n",
       "    <tr>\n",
       "      <th>produce</th>\n",
       "      <td>2227895</td>\n",
       "      <td>1665758</td>\n",
       "      <td>3160462</td>\n",
       "      <td>2424856</td>\n",
       "    </tr>\n",
       "    <tr>\n",
       "      <th>snacks</th>\n",
       "      <td>673577</td>\n",
       "      <td>514497</td>\n",
       "      <td>957084</td>\n",
       "      <td>741609</td>\n",
       "    </tr>\n",
       "    <tr>\n",
       "      <th>NaN</th>\n",
       "      <td>462250</td>\n",
       "      <td>350529</td>\n",
       "      <td>659316</td>\n",
       "      <td>504933</td>\n",
       "    </tr>\n",
       "  </tbody>\n",
       "</table>\n",
       "</div>"
      ],
      "text/plain": [
       "region           Midwest  Northeast    South     West\n",
       "department                                           \n",
       "alcohol            36182      26559    51630    39356\n",
       "babies             98983      75138   143654   106026\n",
       "bakery            273866     208599   388813   301144\n",
       "beverages         625425     483265   898631   679939\n",
       "breakfast         163771     123746   234616   181924\n",
       "bulk                8193       5802    11533     9045\n",
       "canned goods      250700     186750   356012   274583\n",
       "dairy eggs       1264111     953998  1796869  1383467\n",
       "deli              245678     186806   349401   269306\n",
       "dry goods pasta   203769     151816   287440   223598\n",
       "frozen            524092     390908   747858   571826\n",
       "household         175798     131473   243052   188277\n",
       "international      63735      46891    89141    69484\n",
       "meat seafood      166129     124620   235752   182426\n",
       "missing            16535      12374    23193    17042\n",
       "other               8418       6585    12210     9069\n",
       "pantry            442089     329440   622411   481374\n",
       "personal care     105763      78821   150368   112667\n",
       "pets               22355      18601    31265    25488\n",
       "produce          2227895    1665758  3160462  2424856\n",
       "snacks            673577     514497   957084   741609\n",
       "NaN               462250     350529   659316   504933"
      ]
     },
     "execution_count": 528,
     "metadata": {},
     "output_type": "execute_result"
    }
   ],
   "source": [
    "# Checking Crosstab\n",
    "\n",
    "region_dep"
   ]
  },
  {
   "cell_type": "code",
   "execution_count": 529,
   "id": "a36bf11e-54c5-4bfe-9e5a-06b5eb34fd7c",
   "metadata": {},
   "outputs": [
    {
     "data": {
      "text/plain": [
       "Text(0.5, 0, 'Department')"
      ]
     },
     "execution_count": 529,
     "metadata": {},
     "output_type": "execute_result"
    },
    {
     "data": {
      "image/png": "[encoded data removed]",
      "text/plain": [
       "<Figure size 640x480 with 1 Axes>"
      ]
     },
     "metadata": {},
     "output_type": "display_data"
    }
   ],
   "source": [
    "# Region_department Bar Chart\n",
    "\n",
    "bar5 = region_dep.plot(kind='bar', stacked =True)\n",
    "\n",
    "# Overlay a grid behind the bars\n",
    "plt.gca().set_axisbelow(True)  # Ensure grid is behind bars\n",
    "plt.grid(axis='y', color='gray', linestyle='dashed')\n",
    "\n",
    "# General formatting\n",
    "plt.title('Distribution of Department Groups by Region')\n",
    "plt.ylabel('Region')\n",
    "plt.xlabel('Department')"
   ]
  },
  {
   "cell_type": "code",
   "execution_count": 530,
   "id": "26619138-ab4b-4ea5-b54c-c0d2f88b1df1",
   "metadata": {},
   "outputs": [],
   "source": [
    "# Export bar chart\n",
    "bar5.figure.savefig(os.path.join(path, '04 Analysis','Visualizations', 'bar_region_department.png'))"
   ]
  },
  {
   "cell_type": "code",
   "execution_count": 531,
   "id": "bf52e6ca-dc5f-4e34-a429-59c791765966",
   "metadata": {},
   "outputs": [
    {
     "data": {
      "text/plain": [
       "Text(0.5, 0, 'Region')"
      ]
     },
     "execution_count": 531,
     "metadata": {},
     "output_type": "execute_result"
    },
    {
     "data": {
      "image/png": "[encoded data removed]",
      "text/plain": [
       "<Figure size 1000x600 with 1 Axes>"
      ]
     },
     "metadata": {},
     "output_type": "display_data"
    }
   ],
   "source": [
    "plt.figure(figsize=(10, 6))\n",
    "# Plot the histogram bars\n",
    "sns.histplot(data=df_user_sample, x='region', hue='dependant_flag', multiple='dodge', shrink=.8, alpha=1)\n",
    "# Overlay a grid behind the bars\n",
    "plt.gca().set_axisbelow(True)  # Ensure grid is behind bars\n",
    "plt.grid(axis='y', color='gray', linestyle='dashed')\n",
    "# General formatting\n",
    "plt.title('Distribution of Customers with and without Dependants by Region')\n",
    "plt.ylabel('No. of Customers')\n",
    "plt.xlabel('Region')"
   ]
  },
  {
   "cell_type": "code",
   "execution_count": 532,
   "id": "5dd7da0a-ff7d-478f-92c1-d7fc781e9874",
   "metadata": {},
   "outputs": [
    {
     "data": {
      "text/plain": [
       "<Figure size 640x480 with 0 Axes>"
      ]
     },
     "metadata": {},
     "output_type": "display_data"
    }
   ],
   "source": [
    "# export graph\n",
    "plt.savefig(os.path.join(path, '04 Analysis', 'Visualizations', 'instacart_dependents_by_region.png'), bbox_inches = 'tight')"
   ]
  },
  {
   "cell_type": "code",
   "execution_count": 109,
   "id": "44a98b88-e1f2-4e1d-b326-06bdb088a7da",
   "metadata": {},
   "outputs": [],
   "source": [
    "# Define price_label function\n",
    "def price_label(row):\n",
    "    if row['prices'] <= 5:\n",
    "       return 'Low-range product'\n",
    "    elif (row['prices'] > 5) and (row['prices'] <= 15):\n",
    "       return 'Mid-range product'\n",
    "    elif row['prices'] > 15:\n",
    "       return 'High range'\n",
    "    else: return 'Not enough data'"
   ]
  },
  {
   "cell_type": "code",
   "execution_count": null,
   "id": "779436d4-cbbf-402f-8aa5-cebf1f89f5a6",
   "metadata": {},
   "outputs": [],
   "source": [
    "#Apply the function\n",
    "df['price_range'] = df.apply(price_label, axis=1)"
   ]
  },
  {
   "cell_type": "code",
   "execution_count": null,
   "id": "7314c6d0-49c6-44bb-9422-e74bee75882e",
   "metadata": {},
   "outputs": [],
   "source": [
    "# Creating crosstab for region and price range\n",
    "\n",
    "region_pricerange = pd.crosstab(df['region'], df['price_range'], dropna = False)\n"
   ]
  },
  {
   "cell_type": "code",
   "execution_count": null,
   "id": "03918367-8812-44c1-bbba-0a03f7853b81",
   "metadata": {},
   "outputs": [],
   "source": [
    "# Checking crosstab\n",
    "\n",
    "region_pricerange"
   ]
  },
  {
   "cell_type": "code",
   "execution_count": null,
   "id": "787b4d04-4a5d-4497-8829-a59d47efa320",
   "metadata": {},
   "outputs": [],
   "source": [
    "# Region_pricerange Bar Chart\n",
    "\n",
    "bar6 = region_pricerange.plot(kind='bar', stacked =True)\n",
    "\n",
    "# Overlay a grid behind the bars\n",
    "plt.gca().set_axisbelow(True)  # Ensure grid is behind bars\n",
    "plt.grid(axis='y', color='gray', linestyle='dashed')\n",
    "\n",
    "# General formatting\n",
    "plt.title('Distribution of price_range by Region')\n",
    "plt.ylabel('price_range ')\n",
    "plt.xlabel('Region')\n"
   ]
  },
  {
   "cell_type": "code",
   "execution_count": null,
   "id": "76e3022d-6b1f-4ce7-9a72-9066d612fabf",
   "metadata": {},
   "outputs": [],
   "source": [
    "# Exporting bar chart\n",
    "bar6.figure.savefig(os.path.join(path, '04 Analysis','Visualizations', 'bar_region_pricerange.png'))"
   ]
  },
  {
   "cell_type": "code",
   "execution_count": null,
   "id": "a1c69d54-5db6-4aaf-b918-e230e15285d7",
   "metadata": {},
   "outputs": [],
   "source": [
    "# Income groups"
   ]
  },
  {
   "cell_type": "code",
   "execution_count": null,
   "id": "81dda7f8-5e8a-4be5-b126-ddf10d8e374b",
   "metadata": {},
   "outputs": [],
   "source": [
    "# Group by income_group and department, count occurrences, and sort\n",
    "income_department_counts = df.groupby(['income_group', 'department']).size().reset_index(name='counts')\n",
    "income_department_counts.sort_values(by=['income_group', 'counts'], ascending=False, inplace=True)\n",
    "\n",
    "# Create subplots and color scheme\n",
    "fig, axs = plt.subplots(3, 1, figsize=(12, 18))\n",
    "colors = plt.cm.viridis(np.linspace(0, 2, 8))  # Sets colour palette\n",
    "\n",
    "# Define the desired order of income groups\n",
    "desired_order = ['High', 'Middle', 'Low']\n",
    "\n",
    "# Iterate over each income group and create a horizontal bar chart\n",
    "for i, income_group in enumerate(desired_order):\n",
    "    income_data = income_department_counts[income_department_counts['income_group'] == income_group].head(5)\n",
    "    ax = axs[i]\n",
    "    ax.barh(income_data['department'], income_data['counts'], color=colors, zorder=2)\n",
    "    ax.set_title(f'Top 5 Departments for {income_group}-earners')\n",
    "    ax.set_xlabel('Total Products Sold')\n",
    "    ax.set_xlim(0, 4500000) # Keep x-axis range consistent for comparisons\n",
    "    ax.ticklabel_format(style='plain', axis='x')\n",
    "    ax.set_ylabel('')\n",
    "    ax.invert_yaxis()  # Invert y-axis to have the highest count at the top\n",
    "    ax.grid(axis='x', color='gray', linestyle='dashed')\n",
    "\n",
    "plt.tight_layout()  # Adjust layout to prevent overlapping"
   ]
  },
  {
   "cell_type": "code",
   "execution_count": null,
   "id": "59f36165-6f51-43a2-8487-8ad2a293b0a9",
   "metadata": {},
   "outputs": [],
   "source": [
    "# Things to note here. Besides 'produce' the top departments different between income groups. higher earners are more likely to buy 'dairy/eggs' whereas low-earners buy from 'snacks' more often"
   ]
  },
  {
   "cell_type": "code",
   "execution_count": null,
   "id": "bb610ca6-9e5f-4a97-9b92-cf831567ac97",
   "metadata": {},
   "outputs": [],
   "source": [
    "plt.savefig(os.path.join(path, '04 Analysis', 'Visualizations', 'instacart_top_departments_by_Income_group.png'), bbox_inches = 'tight')"
   ]
  },
  {
   "cell_type": "code",
   "execution_count": null,
   "id": "8c2cfc47-235c-4b97-8056-126d7ce71a82",
   "metadata": {},
   "outputs": [],
   "source": [
    "# Group by age_group and department, count occurrences, and sort\n",
    "age_department_counts = df.groupby(['age_group', 'department']).size().reset_index(name='counts')\n",
    "age_department_counts.sort_values(by=['age_group', 'counts'], ascending=False, inplace=True)\n",
    "\n",
    "# Create subplots and color scheme\n",
    "fig, axs = plt.subplots(4, 1, figsize=(12, 24))\n",
    "colors = plt.cm.viridis(np.linspace(0, 1, 5))  # Sets colour palette\n",
    "\n",
    "# Define the desired order of age groups\n",
    "desired_age_order = ['Senior', 'Older adult', 'Adult', 'Young Adult']\n",
    "\n",
    "# Iterate over each age group and create a horizontal bar chart\n",
    "for i, age_group in enumerate(desired_age_order):\n",
    "    age_data = age_department_counts[age_department_counts['age_group'] == age_group].head(5)\n",
    "    ax = axs[i]\n",
    "    ax.barh(age_data['department'], age_data['counts'], color=colors, zorder=2)\n",
    "    ax.set_title(f'Top 5 Departments for {age_group}s')\n",
    "    ax.set_xlabel('Total Products Sold')\n",
    "    ax.set_xlim(0, 3500000) # Keep x-axis range consistent for comparisons\n",
    "    ax.ticklabel_format(style='plain', axis='x')\n",
    "    ax.set_ylabel('')\n",
    "    ax.invert_yaxis()  # Invert y-axis to have the highest count at the top\n",
    "    ax.grid(axis='x', color='gray', linestyle='dashed')\n",
    "\n",
    "plt.tight_layout()  # Adjust layout to prevent overlapping"
   ]
  },
  {
   "cell_type": "code",
   "execution_count": null,
   "id": "1dfc79f4-b05a-478e-9eeb-fa444f28f014",
   "metadata": {},
   "outputs": [],
   "source": [
    "# different age groups dont show differences betweeen departents they purchase most products from."
   ]
  },
  {
   "cell_type": "code",
   "execution_count": null,
   "id": "1f4d1c8f-6d1e-43bd-bdb5-8f9f3bad7c48",
   "metadata": {},
   "outputs": [],
   "source": [
    "# export \n",
    "plt.savefig(os.path.join(path, '04 Analysis', 'Visualizations', 'instacart_top_departments_by_age_group.png'), bbox_inches = 'tight')"
   ]
  },
  {
   "cell_type": "markdown",
   "id": "6c0b13d8-f24e-44be-baab-0ead3787642b",
   "metadata": {},
   "source": [
    "# 6. Income groups"
   ]
  },
  {
   "cell_type": "code",
   "execution_count": null,
   "id": "48d3ccd7-aeb8-4a48-9abf-90e5be15ab6d",
   "metadata": {},
   "outputs": [],
   "source": [
    "# Create a column for frequet users\n",
    "df['Customer_frequency'] = df.groupby(['user_id'])['days_since_order'].transform(np.median)"
   ]
  },
  {
   "cell_type": "code",
   "execution_count": null,
   "id": "ccacf179-531f-485d-81b3-200af9ab2a0e",
   "metadata": {},
   "outputs": [],
   "source": [
    "# Creating flag on order frequency\n",
    "df.loc[df['Customer_frequency'] > 20, 'frequency_flag'] = 'Non_frequent_customer'\n",
    "\n",
    "df.loc[(df['Customer_frequency']>10) & (df['Customer_frequency']<=20),'frequency_flag'] = 'Regular customer'\n",
    "\n",
    "df.loc[df['Customer_frequency'] <= 10, 'frequency_flag'] = 'Frequent Customer'"
   ]
  },
  {
   "cell_type": "code",
   "execution_count": null,
   "id": "cc76747a-fb62-4991-a20d-ec7348f753ef",
   "metadata": {},
   "outputs": [],
   "source": [
    "# Creating crosstab for income and frequency\n",
    "\n",
    "income_freq = pd.crosstab(df['income_group'], df['frequency_flag'], dropna = False)"
   ]
  },
  {
   "cell_type": "code",
   "execution_count": null,
   "id": "49ec8ad2-e7f6-4606-8e0c-e9e47306e164",
   "metadata": {},
   "outputs": [],
   "source": [
    "# Checking crosstab\n",
    "\n",
    "income_freq"
   ]
  },
  {
   "cell_type": "code",
   "execution_count": null,
   "id": "e1aa0a70-98a4-41ed-8080-37af55564eec",
   "metadata": {},
   "outputs": [],
   "source": [
    "# Income Group and Order frequency Bar Chart\n",
    "\n",
    "bar7 = income_freq.plot(kind='bar', stacked =True)\n",
    "\n",
    "# Overlay a grid behind the bars\n",
    "plt.gca().set_axisbelow(True)  # Ensure grid is behind bars\n",
    "plt.grid(axis='y', color='gray', linestyle='dashed')\n",
    "\n",
    "# General formatting\n",
    "plt.title('Distribution of Income_group  by order frequency chart')\n",
    "plt.ylabel('Order_frequency ')\n",
    "plt.xlabel('Income_group')\n"
   ]
  },
  {
   "cell_type": "code",
   "execution_count": null,
   "id": "480a51f4-d61e-4251-bec1-c55909ab3885",
   "metadata": {},
   "outputs": [],
   "source": [
    "# Exporting bar chart\n",
    "\n",
    "bar7.figure.savefig(os.path.join(path, '04 Analysis','Visualizations', 'bar_income_frequency.png'))"
   ]
  },
  {
   "cell_type": "code",
   "execution_count": null,
   "id": "af4dc881-2d46-4282-aa31-d3bec61ba553",
   "metadata": {},
   "outputs": [],
   "source": [
    "# Creating crosstab for age and frequency\n",
    "\n",
    "age_freq = pd.crosstab(df['age_group'], df['frequency_flag'], dropna = False)"
   ]
  },
  {
   "cell_type": "code",
   "execution_count": null,
   "id": "3eefc6ae-8042-4431-b9ca-d7014ab833a8",
   "metadata": {},
   "outputs": [],
   "source": [
    "# Checking crosstab\n",
    "\n",
    "age_freq"
   ]
  },
  {
   "cell_type": "code",
   "execution_count": null,
   "id": "a35fe0d0-11fa-46e2-bcfd-5c3b83315718",
   "metadata": {},
   "outputs": [],
   "source": [
    "# Region Price Range Bar Chart\n",
    "\n",
    "bar8 = age_freq.plot(kind='bar', stacked =True)\n",
    "\n",
    "# Overlay a grid behind the bars\n",
    "plt.gca().set_axisbelow(True)  # Ensure grid is behind bars\n",
    "plt.grid(axis='y', color='gray', linestyle='dashed')\n",
    "\n",
    "# General formatting\n",
    "plt.title('Distribution of Age_group  by order frequency chart')\n",
    "plt.ylabel('Order_frequency ')\n",
    "plt.xlabel('Age_group')"
   ]
  },
  {
   "cell_type": "code",
   "execution_count": null,
   "id": "02a27bd2-ff09-403a-a28b-3a790ed541e9",
   "metadata": {},
   "outputs": [],
   "source": [
    "# Exporting bar chart\n",
    "\n",
    "bar8.figure.savefig(os.path.join(path, '04 Analysis','Visualizations', 'bar_age_freq.png'))"
   ]
  },
  {
   "cell_type": "code",
   "execution_count": null,
   "id": "1349609d-f4f8-4f14-bf04-7895e71d704c",
   "metadata": {},
   "outputs": [],
   "source": [
    "# Marital Status"
   ]
  },
  {
   "cell_type": "markdown",
   "id": "203fae40-595c-411d-8b6c-ac3d8f58afbd",
   "metadata": {},
   "source": [
    "7. Marital Status"
   ]
  },
  {
   "cell_type": "code",
   "execution_count": null,
   "id": "49021ab2-9232-4901-a312-d91d7173cfb4",
   "metadata": {},
   "outputs": [],
   "source": [
    "#Rename column 'Unnamed: 0' to 'department_id'\n",
    "\n",
    "df.rename(columns = {'Family Status':'Marital_status'}, inplace = True)"
   ]
  },
  {
   "cell_type": "code",
   "execution_count": null,
   "id": "3c0b5eec-ebc3-4b4a-8021-acc10be80ebf",
   "metadata": {},
   "outputs": [],
   "source": [
    "# Creating crosstab for marital status and frequency\n",
    "\n",
    "marital_freq = pd.crosstab(df['fam_status'], df['frequency_flag'], dropna = False)"
   ]
  },
  {
   "cell_type": "code",
   "execution_count": null,
   "id": "cf292a02-1d85-407f-b211-a566957842cd",
   "metadata": {},
   "outputs": [],
   "source": [
    "# Checking crosstab\n",
    "\n",
    "marital_freq"
   ]
  },
  {
   "cell_type": "code",
   "execution_count": null,
   "id": "1f5df26b-e463-4327-ae59-63bdb6f99dc8",
   "metadata": {},
   "outputs": [],
   "source": [
    "#Marital_freq Bar Chart\n",
    "\n",
    "bar9 = marital_freq.plot(kind='bar', stacked =True)\n",
    "\n",
    "# Overlay a grid behind the bars\n",
    "plt.gca().set_axisbelow(True)  # Ensure grid is behind bars\n",
    "plt.grid(axis='y', color='gray', linestyle='dashed')\n",
    "\n",
    "# General formatting\n",
    "plt.title('Distribution of Marital_status  by order frequency chart')\n",
    "plt.ylabel('Order_frequency ')\n",
    "plt.xlabel('Marital_status')"
   ]
  },
  {
   "cell_type": "code",
   "execution_count": null,
   "id": "1b4ad609-2d8b-4aed-bdd6-5857adc658a6",
   "metadata": {},
   "outputs": [],
   "source": [
    "# Exporting bar chart\n",
    "\n",
    "bar9.figure.savefig(os.path.join(path, '04 Analysis','Visualizations', 'bar_marital_freq.png'))"
   ]
  },
  {
   "cell_type": "code",
   "execution_count": null,
   "id": "d5e3c364-053a-4a73-8465-ca2fd34563e3",
   "metadata": {},
   "outputs": [],
   "source": [
    "# Departments"
   ]
  },
  {
   "cell_type": "code",
   "execution_count": null,
   "id": "fce27e0d-4f26-473a-a930-55ed2fa6ebc3",
   "metadata": {},
   "outputs": [],
   "source": [
    "# Creating crosstab for department and frequency\n",
    "dep_freq = pd.crosstab(df['department'], df['frequency_flag'], dropna = False)"
   ]
  },
  {
   "cell_type": "code",
   "execution_count": null,
   "id": "b9041708-e2a6-4e2e-ac0a-a4463835d4f7",
   "metadata": {},
   "outputs": [],
   "source": [
    "# Checking crosstab\n",
    "dep_freq"
   ]
  },
  {
   "cell_type": "code",
   "execution_count": null,
   "id": "86957ebf-04df-4d5c-b82c-f08ca42c4e18",
   "metadata": {},
   "outputs": [],
   "source": [
    "#dept_freq Bar Chart\n",
    "\n",
    "bar9 = marital_freq.plot(kind='bar', stacked =True)\n",
    "\n",
    "# Overlay a grid behind the bars\n",
    "plt.gca().set_axisbelow(True)  # Ensure grid is behind bars\n",
    "plt.grid(axis='y', color='gray', linestyle='dashed')\n",
    "\n",
    "# General formatting\n",
    "plt.title('Distribution of Department  by order frequency chart')\n",
    "plt.ylabel('Order_frequency ')\n",
    "plt.xlabel('department')"
   ]
  },
  {
   "cell_type": "code",
   "execution_count": null,
   "id": "8e1a6049-7a04-4d50-8d01-d16a1234cda3",
   "metadata": {},
   "outputs": [],
   "source": [
    "# Exporting bar chart\n",
    "bar.figure.savefig(os.path.join(path, '04 Analysis','Visualizations', 'bar_frequency.png'))"
   ]
  },
  {
   "cell_type": "code",
   "execution_count": null,
   "id": "daf22074-3d72-4d27-aa13-1cb0615a188e",
   "metadata": {},
   "outputs": [],
   "source": [
    "# Final Data Set"
   ]
  },
  {
   "cell_type": "code",
   "execution_count": null,
   "id": "fbff4935-da40-4c33-a1e4-2182da49ac6f",
   "metadata": {},
   "outputs": [],
   "source": [
    "df.to_pickle(os.path.join(path, '02 Data', 'Prepared Data', 'instacart_full_data.pkl'))"
   ]
  },
  {
   "cell_type": "code",
   "execution_count": null,
   "id": "528dd5af-c78c-4571-aaee-320132f7c4dc",
   "metadata": {},
   "outputs": [],
   "source": [
    "# Top 10 departments for instacart"
   ]
  },
  {
   "cell_type": "code",
   "execution_count": null,
   "id": "119751ad-dd47-4bf9-b572-8b4eeded1e67",
   "metadata": {},
   "outputs": [],
   "source": [
    "colors = plt.cm.viridis(np.linspace(0, 1, 10)) # Sets colour palette\n",
    "\n",
    "fig, ax = plt.subplots(figsize = (10, 6))\n",
    "plt.ticklabel_format(style='plain')\n",
    "\n",
    "df['department'].value_counts().sort_values(ascending = False).head(10).plot.barh(color = colors, \n",
    "                                                                                        zorder = 2, \n",
    "                                                                                        edgecolor = 'black')\n",
    "plt.title('Instacart Top 10 Departments', size=10, pad=10)\n",
    "plt.xlabel('No. of Products Sold', )\n",
    "plt.ylabel('')\n",
    "plt.grid(axis = 'x', color = 'gray', linestyle = 'dashed')\n",
    "ax.invert_yaxis()"
   ]
  },
  {
   "cell_type": "code",
   "execution_count": null,
   "id": "2b0261c0-a113-4003-8fd6-cce0590b860f",
   "metadata": {},
   "outputs": [],
   "source": [
    "plt.savefig(os.path.join(path, '04 Analysis', 'Visualizations', 'Instacart_department_sales.png'), bbox_inches = 'tight')"
   ]
  },
  {
   "cell_type": "code",
   "execution_count": null,
   "id": "6bb6dbee-5eb8-4528-934e-8cc6e687d001",
   "metadata": {},
   "outputs": [],
   "source": [
    "# Frequency count\n",
    "df['department'].value_counts(dropna=False)"
   ]
  },
  {
   "cell_type": "code",
   "execution_count": null,
   "id": "de385c10-5d8b-4218-b553-ae826cd6cb39",
   "metadata": {},
   "outputs": [],
   "source": [
    "# ordering habits based on loyalty status\n",
    "# Compute average order_total\n",
    "loyalty_order_total = orders_subset.groupby('loyalty_flag')['order_total'].mean().sort_values(ascending = False).reset_index()"
   ]
  },
  {
   "cell_type": "code",
   "execution_count": null,
   "id": "f327fcd9-0ce3-457c-8cc4-71ced6e6806d",
   "metadata": {},
   "outputs": [],
   "source": [
    "# Check\n",
    "loyalty_order_total"
   ]
  },
  {
   "cell_type": "code",
   "execution_count": null,
   "id": "7134233e-69d5-41b3-903f-2b95fcd0327e",
   "metadata": {},
   "outputs": [],
   "source": [
    "# Set up formatting and colours\n",
    "plt.figure(figsize=(8, 6))\n",
    "colors = ['green', 'red', 'blue']\n",
    "\n",
    "# Plot bars\n",
    "bars = plt.bar(loyalty_order_total['loyalty_flag'], loyalty_order_total['order_total'], color=colors, edgecolor='black', zorder=2)\n",
    "plt.title(\"Average Order Total by Customer Loyalty\")\n",
    "plt.xlabel(\"\")\n",
    "plt.xticks(rotation=0)\n",
    "plt.ylabel(\"Average Order Total ($)\")\n",
    "plt.grid(axis = 'y', color = 'grey', linestyle = 'dashed')"
   ]
  },
  {
   "cell_type": "code",
   "execution_count": null,
   "id": "fba7885b-6565-4069-b775-392753aa3158",
   "metadata": {},
   "outputs": [],
   "source": [
    "plt.savefig(os.path.join(path, '04 Analysis', 'Visualizations', 'instacart_average_order_by_loyalty.png'), bbox_inches = 'tight')"
   ]
  },
  {
   "cell_type": "code",
   "execution_count": null,
   "id": "20a23247-b5a8-4e58-b7b6-48ad103c38e4",
   "metadata": {},
   "outputs": [],
   "source": [
    "# Average price of products purchased\n",
    "product_avg_cost = df.groupby('loyalty_flag')['prices'].mean().sort_values(ascending = False).reset_index()"
   ]
  },
  {
   "cell_type": "code",
   "execution_count": null,
   "id": "32e492b7-922f-40ba-b078-213f62bf5189",
   "metadata": {},
   "outputs": [],
   "source": [
    "# Check\n",
    "product_avg_cost"
   ]
  },
  {
   "cell_type": "code",
   "execution_count": null,
   "id": "614ae598-e651-484f-b18e-4351fa2ac3f4",
   "metadata": {},
   "outputs": [],
   "source": [
    "# Set up formatting and colours\n",
    "plt.figure(figsize=(6, 6))\n",
    "colors = ['blue', 'green', 'yellow']\n",
    "\n",
    "# Plot bars\n",
    "bars = plt.bar(product_avg_cost['loyalty_flag'], product_avg_cost['prices'], color=colors, edgecolor='black', zorder=2)\n",
    "plt.title(\"Average Cost of Products Bought by Instacart Customers\")\n",
    "plt.xlabel(\"\")\n",
    "plt.xticks(rotation=0)\n",
    "plt.ylabel(\"Average Product Price ($)\")\n",
    "plt.grid(axis = 'y', color = 'grey', linestyle = 'dashed')"
   ]
  },
  {
   "cell_type": "code",
   "execution_count": null,
   "id": "ac487fa0-9cf9-4844-96e3-803b7c746f7b",
   "metadata": {},
   "outputs": [],
   "source": [
    "plt.savefig(os.path.join(path, '04 Analysis', 'Visualizations', 'instacart_average_product_price_by_loyalty.png'), bbox_inches = 'tight')"
   ]
  },
  {
   "cell_type": "code",
   "execution_count": null,
   "id": "59245797-c061-4c67-9ff5-394c41b6c0a2",
   "metadata": {},
   "outputs": [],
   "source": [
    "# Total product orders\n",
    "# Set up formatting\n",
    "# colors = ['#0bb4ff', '#e60049', '#4421af', '#5ad45a', '#ffa300', '#ebdc78'], # colour palette\n",
    "plt.figure(figsize=(10, 6))\n",
    "plt.ticklabel_format(style='plain')\n",
    "\n",
    "# Plot bars\n",
    "df['region'].value_counts().sort_index().plot.bar(color = ['#0bb4ff', '#e60049', '#4421af', '#5ad45a'],\n",
    "                                                         edgecolor='black', \n",
    "                                                         zorder=2, \n",
    "                                                         alpha = 1)\n",
    "plt.title(\"Total Product Orders by Region\")\n",
    "plt.xlabel(\"\")\n",
    "plt.xticks(rotation=0)\n",
    "plt.ylabel(\"Total Product Orders\")\n",
    "plt.grid(axis = 'y', color = 'grey', linestyle = 'dashed')"
   ]
  },
  {
   "cell_type": "code",
   "execution_count": null,
   "id": "0c15da97-56c8-45f6-9c06-8f18db8060a8",
   "metadata": {},
   "outputs": [],
   "source": [
    "plt.savefig(os.path.join(path, '04 Analysis', 'Visualizations', 'instacart_total_orders_by_region.png'), bbox_inches = 'tight')"
   ]
  },
  {
   "cell_type": "code",
   "execution_count": null,
   "id": "9fd383cb-ca11-4b9d-b061-ab9f6a515116",
   "metadata": {},
   "outputs": [],
   "source": [
    "# Average order_total\n",
    "region_avg_order_total = orders_subset.groupby('region')['order_total'].mean().sort_values(ascending = False).reset_index()"
   ]
  },
  {
   "cell_type": "code",
   "execution_count": null,
   "id": "9d24e367-7bf7-4f6e-a66e-905756799703",
   "metadata": {},
   "outputs": [],
   "source": [
    "# Check\n",
    "region_avg_order_total"
   ]
  },
  {
   "cell_type": "code",
   "execution_count": null,
   "id": "f16ff444-66cf-4171-8001-c7698b695449",
   "metadata": {},
   "outputs": [],
   "source": [
    "# Set up formatting\n",
    "# colors = ['#0bb4ff', '#e60049', '#4421af', '#5ad45a', '#ffa300', '#ebdc78'], # colour palette\n",
    "plt.figure(figsize=(10, 6))\n",
    "\n",
    "# Plot bars\n",
    "bars = plt.bar(region_avg_order_total['region'], \n",
    "               region_avg_order_total['order_total'], \n",
    "               color = ['#0bb4ff', '#e60049', '#4421af', '#5ad45a'],\n",
    "               edgecolor='black', \n",
    "               zorder=2, \n",
    "               alpha = 1)\n",
    "plt.title(\"Average Order Total by Region\")\n",
    "plt.xlabel(\"\")\n",
    "plt.xticks(rotation=0)\n",
    "plt.ylabel(\"Average Order Total ($)\")\n",
    "plt.grid(axis = 'y', color = 'grey', linestyle = 'dashed')"
   ]
  },
  {
   "cell_type": "code",
   "execution_count": null,
   "id": "d6a4266b-3545-481d-a0d4-ba0265118334",
   "metadata": {},
   "outputs": [],
   "source": [
    "plt.savefig(os.path.join(path, '04 Analysis', 'Visualizations', 'instacart_average_order_by_region.png'), bbox_inches = 'tight')"
   ]
  },
  {
   "cell_type": "code",
   "execution_count": null,
   "id": "b1f91db2-2dee-49e5-8323-302e903d5173",
   "metadata": {},
   "outputs": [],
   "source": [
    "# Difference in ordering habits of different customer profiles"
   ]
  },
  {
   "cell_type": "code",
   "execution_count": null,
   "id": "18da7bf8-044d-4271-ace1-44d073c9cf7a",
   "metadata": {},
   "outputs": [],
   "source": [
    "# Income groups by the mean of the order_total - multilevel index\n",
    "sorted_df = aggregations_by_income_cat.sort_values(by=('order_total', 'mean'), ascending=False)"
   ]
  },
  {
   "cell_type": "code",
   "execution_count": null,
   "id": "53bf1b45-925d-47cc-a027-010f54876f30",
   "metadata": {},
   "outputs": [],
   "source": [
    "# Check\n",
    "sorted_df"
   ]
  },
  {
   "cell_type": "code",
   "execution_count": null,
   "id": "9990a570-a771-44d7-aa08-41e7f985e07d",
   "metadata": {},
   "outputs": [],
   "source": [
    "# Make bar chart for average order total\n",
    "plt.figure(figsize=(10, 6))\n",
    "plt.bar(sorted_df.index, sorted_df['order_total', 'mean'], color=['purple', 'green', 'blue'], zorder=2, edgecolor='black')\n",
    "plt.xlabel('Income Group')\n",
    "plt.ylabel('Average Order Amount ($)')\n",
    "plt.title('Average Order Amount by Income Group')\n",
    "plt.grid(axis = 'y', color = 'gray', linestyle = 'dashed')"
   ]
  },
  {
   "cell_type": "code",
   "execution_count": null,
   "id": "360ca3f7-9117-4523-af8c-192bc6d48020",
   "metadata": {},
   "outputs": [],
   "source": [
    "plt.savefig(os.path.join(path, '04 Analysis', 'Visualizations', 'instacart_average_order_amount_by_income.png'), bbox_inches = 'tight')"
   ]
  },
  {
   "cell_type": "code",
   "execution_count": null,
   "id": "5340c3a7-8e0f-4fa5-b6b5-f5ebdc1c7981",
   "metadata": {},
   "outputs": [],
   "source": [
    "# Graph\n",
    "plt.figure(figsize=(8, 10)) \n",
    "ax = crosstab1_norm.plot(kind='bar', stacked=True, zorder=2, edgecolor='black')\n",
    "\n",
    "# To show percentages on each section:\n",
    "for p in ax.patches:\n",
    "    width, height = p.get_width(), p.get_height()\n",
    "    x, y = p.get_xy()\n",
    "    percentage = f'{height:.1f}%'  # Format as percentage\n",
    "    ax.text(x + width / 2, y + height / 2, percentage, ha='center', va='center')\n",
    "\n",
    "plt.title('Frequency by Income Group (%)')\n",
    "plt.xlabel('')\n",
    "plt.xticks(rotation=0)\n",
    "plt.ylabel('Percentage')\n",
    "plt.grid(axis = 'y', color = 'gray', linestyle = 'dashed')\n",
    "plt.legend(title='Frequency',loc='upper left', bbox_to_anchor=(1.05, 1))"
   ]
  },
  {
   "cell_type": "code",
   "execution_count": null,
   "id": "20a9cd3a-8327-4aca-ac3c-d4df11af02f1",
   "metadata": {},
   "outputs": [],
   "source": [
    "plt.savefig(os.path.join(path, '04 Analysis', 'Visualizations', 'instacart_customer_frequency_by_income.png'), bbox_inches = 'tight')"
   ]
  },
  {
   "cell_type": "code",
   "execution_count": null,
   "id": "fc346bae-7a56-4461-a3b5-911a3ae05020",
   "metadata": {},
   "outputs": [],
   "source": [
    "plt.figure(figsize=(10, 6))\n",
    "# Plot the histogram bars\n",
    "sns.histplot(data=df_user_sample, x='dependant_flag', hue='age_group', multiple='dodge', shrink=.8, alpha=1)\n",
    "# Overlay a grid behind the bars\n",
    "plt.gca().set_axisbelow(True)  # Ensure grid is behind bars\n",
    "plt.grid(axis='y', color='gray', linestyle='dashed')\n",
    "# General formatting\n",
    "plt.title('Distribution of Customer Age Groups with Dependants')\n",
    "plt.ylabel('No. of Customers')\n",
    "plt.xlabel('Dependants')"
   ]
  },
  {
   "cell_type": "code",
   "execution_count": null,
   "id": "fa5d29d9-73b1-4867-a4a1-0ad213dab550",
   "metadata": {},
   "outputs": [],
   "source": [
    "plt.savefig(os.path.join(path, '04 Analysis', 'Visualizations', 'instacart_age_by_dependants.png'), bbox_inches = 'tight')"
   ]
  },
  {
   "cell_type": "code",
   "execution_count": null,
   "id": "16632c8c-6610-4d44-b70d-df1a53b308a7",
   "metadata": {},
   "outputs": [],
   "source": []
  },
  {
   "cell_type": "code",
   "execution_count": null,
   "id": "4f76f878-c09e-4208-8b43-d5deac6d1685",
   "metadata": {},
   "outputs": [],
   "source": []
  },
  {
   "cell_type": "code",
   "execution_count": null,
   "id": "9041bdc8-58e9-4875-8a85-4d44efa8803a",
   "metadata": {},
   "outputs": [],
   "source": []
  },
  {
   "cell_type": "code",
   "execution_count": null,
   "id": "a72fcb35-3b9f-439a-976e-46390b8351c2",
   "metadata": {},
   "outputs": [],
   "source": []
  }
 ],
 "metadata": {
  "kernelspec": {
   "display_name": "Python 3 (ipykernel)",
   "language": "python",
   "name": "python3"
  },
  "language_info": {
   "codemirror_mode": {
    "name": "ipython",
    "version": 3
   },
   "file_extension": ".py",
   "mimetype": "text/x-python",
   "name": "python",
   "nbconvert_exporter": "python",
   "pygments_lexer": "ipython3",
   "version": "3.12.4"
  }
 },
 "nbformat": 4,
 "nbformat_minor": 5
}
